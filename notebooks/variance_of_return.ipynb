{
 "cells": [
  {
   "cell_type": "code",
   "execution_count": 2,
   "metadata": {
    "collapsed": false
   },
   "outputs": [
    {
     "name": "stdout",
     "output_type": "stream",
     "text": [
      "The autoreload extension is already loaded. To reload it, use:\n",
      "  %reload_ext autoreload\n"
     ]
    }
   ],
   "source": [
    "%load_ext autoreload\n",
    "%autoreload 2\n",
    "\n",
    "%matplotlib inline\n",
    "import matplotlib as mpl\n",
    "import matplotlib.pyplot as plt\n",
    "import numpy as np\n",
    "from numpy.linalg import pinv\n",
    "\n",
    "import mdpy as mdp"
   ]
  },
  {
   "cell_type": "code",
   "execution_count": 224,
   "metadata": {
    "collapsed": true
   },
   "outputs": [],
   "source": [
    "np.set_printoptions(precision=5, suppress=True)"
   ]
  },
  {
   "cell_type": "markdown",
   "metadata": {},
   "source": [
    "# Chicken Example"
   ]
  },
  {
   "cell_type": "code",
   "execution_count": 242,
   "metadata": {
    "collapsed": true
   },
   "outputs": [],
   "source": [
    "# Solve using the matrix formulation\n",
    "ns = 5\n",
    "states = np.arange(ns)\n",
    "\n",
    "I = np.eye(ns)\n",
    "# transition matrix\n",
    "p_forward = 0.5\n",
    "p_backward = 1 - p_forward\n",
    "P = np.diag(np.ones(ns-1)* p_forward, 1)\n",
    "P[:,0] = p_backward\n",
    "P[-1,0] = 1\n",
    "\n",
    "# expected reward matrix & vector\n",
    "R = np.zeros((ns, ns))\n",
    "R[-1][0] = 1*p_forward\n",
    "rvec = np.sum(P*R, axis=1)\n",
    "\n",
    "# gamma matrix\n",
    "gm = np.ones(ns)*0.9\n",
    "gm[0] = 0\n",
    "G = np.diag(gm)"
   ]
  },
  {
   "cell_type": "code",
   "execution_count": 76,
   "metadata": {
    "collapsed": false
   },
   "outputs": [
    {
     "data": {
      "text/plain": [
       "array([[ 0.5,  0.5,  0. ,  0. ,  0. ],\n",
       "       [ 0.5,  0. ,  0.5,  0. ,  0. ],\n",
       "       [ 0.5,  0. ,  0. ,  0.5,  0. ],\n",
       "       [ 0.5,  0. ,  0. ,  0. ,  0.5],\n",
       "       [ 1. ,  0. ,  0. ,  0. ,  0. ]])"
      ]
     },
     "execution_count": 76,
     "metadata": {},
     "output_type": "execute_result"
    }
   ],
   "source": [
    "P"
   ]
  },
  {
   "cell_type": "code",
   "execution_count": 236,
   "metadata": {
    "collapsed": false
   },
   "outputs": [
    {
     "data": {
      "text/plain": [
       "array([[ 0.  ,  0.45,  0.  ,  0.  ,  0.  ],\n",
       "       [ 0.  ,  0.  ,  0.45,  0.  ,  0.  ],\n",
       "       [ 0.  ,  0.  ,  0.  ,  0.45,  0.  ],\n",
       "       [ 0.  ,  0.  ,  0.  ,  0.  ,  0.45],\n",
       "       [ 0.  ,  0.  ,  0.  ,  0.  ,  0.  ]])"
      ]
     },
     "execution_count": 236,
     "metadata": {},
     "output_type": "execute_result"
    }
   ],
   "source": [
    "P @ G"
   ]
  },
  {
   "cell_type": "code",
   "execution_count": 78,
   "metadata": {
    "collapsed": false
   },
   "outputs": [],
   "source": [
    "v = pinv(I - P @ G) @ rvec"
   ]
  },
  {
   "cell_type": "markdown",
   "metadata": {},
   "source": [
    "Define\n",
    "\n",
    "$$\n",
    "v(s) = r(s) + \\sum_{s'} p(s, s') \\gamma(s') v(s')\n",
    "$$\n",
    "\n",
    "$$\n",
    "F_{s} = \\sum_{s'} p(s,s') (r(s,s') + \\gamma v(s'))^2 - v^2(s)\n",
    "$$\n",
    "\n",
    "With the claim that the variance of the return is then\n",
    "\n",
    "$$\n",
    "\\begin{align}\n",
    "\\operatorname{Var}\\left[{G_t| S_t = s}\\right] &= \\sigma_s = F_s + \\gamma^2 \\sum_{s'} p(s,s') \\sigma_s\n",
    "\\\\\\\\\n",
    "\\vec{\\sigma} &= \\vec{F} + \\gamma^2 P \\vec{\\sigma}\n",
    "\\\\\\\\\n",
    "\\vec{\\sigma} &= (I - \\gamma^2 P)^{-1} \\vec{F}\n",
    "\\end{align}\n",
    "$$"
   ]
  },
  {
   "cell_type": "code",
   "execution_count": 241,
   "metadata": {
    "collapsed": false
   },
   "outputs": [
    {
     "data": {
      "text/plain": [
       "array([ 0.     ,  0.04101,  0.09112,  0.2025 ,  0.45   ])"
      ]
     },
     "execution_count": 241,
     "metadata": {},
     "output_type": "execute_result"
    }
   ],
   "source": [
    "v * gm"
   ]
  },
  {
   "cell_type": "code",
   "execution_count": 237,
   "metadata": {
    "collapsed": false
   },
   "outputs": [
    {
     "data": {
      "text/plain": [
       "array([ 0.25,  0.  ,  0.  ,  0.  ,  0.  ])"
      ]
     },
     "execution_count": 237,
     "metadata": {},
     "output_type": "execute_result"
    }
   ],
   "source": [
    "np.sum(P*(R + G*v)**2, axis=0)"
   ]
  },
  {
   "cell_type": "code",
   "execution_count": 110,
   "metadata": {
    "collapsed": false
   },
   "outputs": [],
   "source": [
    "F = -(v**2).reshape(ns, 1)\n",
    "for (i,j), p in np.ndenumerate(P):\n",
    "    F[i] += P[i,j] * (R[i,j] + G[j,j]*v[j])**2\n",
    "    \n",
    "sg = pinv(I - G**2 @ P) @ F"
   ]
  },
  {
   "cell_type": "code",
   "execution_count": 197,
   "metadata": {
    "collapsed": false
   },
   "outputs": [
    {
     "data": {
      "text/plain": [
       "array([[ 0.5,  0.5,  0. ,  0. ,  0. ],\n",
       "       [ 0.5,  0. ,  0.5,  0. ,  0. ],\n",
       "       [ 0.5,  0. ,  0. ,  0.5,  0. ],\n",
       "       [ 0.5,  0. ,  0. ,  0. ,  0.5],\n",
       "       [ 1. ,  0. ,  0. ,  0. ,  0. ]])"
      ]
     },
     "execution_count": 197,
     "metadata": {},
     "output_type": "execute_result"
    }
   ],
   "source": [
    "P"
   ]
  },
  {
   "cell_type": "code",
   "execution_count": 198,
   "metadata": {
    "collapsed": false
   },
   "outputs": [
    {
     "data": {
      "text/plain": [
       "array([[ 0.        , -0.04100625, -0.091125  , -0.2025    , -0.45      ],\n",
       "       [ 0.        , -0.04100625, -0.091125  , -0.2025    , -0.45      ],\n",
       "       [ 0.        , -0.04100625, -0.091125  , -0.2025    , -0.45      ],\n",
       "       [ 0.        , -0.04100625, -0.091125  , -0.2025    , -0.45      ],\n",
       "       [ 0.5       , -0.04100625, -0.091125  , -0.2025    , -0.45      ]])"
      ]
     },
     "execution_count": 198,
     "metadata": {},
     "output_type": "execute_result"
    }
   ],
   "source": [
    "R - G@v"
   ]
  },
  {
   "cell_type": "code",
   "execution_count": 206,
   "metadata": {
    "collapsed": false
   },
   "outputs": [
    {
     "data": {
      "text/plain": [
       "array([[ 0.        ,  0.02050312,  0.        ,  0.        ,  0.        ],\n",
       "       [ 0.        ,  0.        ,  0.0455625 ,  0.        ,  0.        ],\n",
       "       [ 0.        ,  0.        ,  0.        ,  0.10125   ,  0.        ],\n",
       "       [ 0.        ,  0.        ,  0.        ,  0.        ,  0.225     ],\n",
       "       [ 0.5       ,  0.        ,  0.        ,  0.        ,  0.        ]])"
      ]
     },
     "execution_count": 206,
     "metadata": {},
     "output_type": "execute_result"
    }
   ],
   "source": [
    "P*(R + G@v)"
   ]
  },
  {
   "cell_type": "code",
   "execution_count": 210,
   "metadata": {
    "collapsed": false
   },
   "outputs": [],
   "source": [
    "tmp = np.zeros((ns, ns))\n",
    "for (i,j), p in np.ndenumerate(P):\n",
    "    tmp[i,j] = P[i,j]*(R[i,j] + gm[j]*v[j])**2"
   ]
  },
  {
   "cell_type": "code",
   "execution_count": 211,
   "metadata": {
    "collapsed": false
   },
   "outputs": [
    {
     "data": {
      "text/plain": [
       "array([[ 0.        ,  0.00084076,  0.        ,  0.        ,  0.        ],\n",
       "       [ 0.        ,  0.        ,  0.00415188,  0.        ,  0.        ],\n",
       "       [ 0.        ,  0.        ,  0.        ,  0.02050313,  0.        ],\n",
       "       [ 0.        ,  0.        ,  0.        ,  0.        ,  0.10125   ],\n",
       "       [ 0.25      ,  0.        ,  0.        ,  0.        ,  0.        ]])"
      ]
     },
     "execution_count": 211,
     "metadata": {},
     "output_type": "execute_result"
    }
   ],
   "source": [
    "tmp"
   ]
  },
  {
   "cell_type": "code",
   "execution_count": 215,
   "metadata": {
    "collapsed": false
   },
   "outputs": [
    {
     "data": {
      "text/plain": [
       "array([  4.20378135e-04,   2.07594141e-03,   1.02515625e-02,\n",
       "         5.06250000e-02,  -2.22044605e-16])"
      ]
     },
     "execution_count": 215,
     "metadata": {},
     "output_type": "execute_result"
    }
   ],
   "source": [
    "np.sum(tmp, axis=1) - v**2"
   ]
  },
  {
   "cell_type": "code",
   "execution_count": 225,
   "metadata": {
    "collapsed": false
   },
   "outputs": [
    {
     "data": {
      "text/plain": [
       "array([[ 0.00042],\n",
       "       [ 0.00208],\n",
       "       [ 0.01025],\n",
       "       [ 0.05062],\n",
       "       [-0.     ]])"
      ]
     },
     "execution_count": 225,
     "metadata": {},
     "output_type": "execute_result"
    }
   ],
   "source": [
    "F"
   ]
  },
  {
   "cell_type": "code",
   "execution_count": 226,
   "metadata": {
    "collapsed": false
   },
   "outputs": [
    {
     "data": {
      "text/plain": [
       "array([[-0.00042],\n",
       "       [-0.00208],\n",
       "       [-0.01025],\n",
       "       [ 0.05063],\n",
       "       [-0.     ]])"
      ]
     },
     "execution_count": 226,
     "metadata": {},
     "output_type": "execute_result"
    }
   ],
   "source": [
    "(I - P @ G**2) @ F"
   ]
  },
  {
   "cell_type": "code",
   "execution_count": 227,
   "metadata": {
    "collapsed": false
   },
   "outputs": [
    {
     "data": {
      "text/plain": [
       "array([[ 0.00042],\n",
       "       [ 0.01482],\n",
       "       [ 0.03105],\n",
       "       [ 0.05093],\n",
       "       [ 0.00034]])"
      ]
     },
     "execution_count": 227,
     "metadata": {},
     "output_type": "execute_result"
    }
   ],
   "source": [
    "sg"
   ]
  },
  {
   "cell_type": "code",
   "execution_count": 228,
   "metadata": {
    "collapsed": false
   },
   "outputs": [
    {
     "data": {
      "text/plain": [
       "3.4948821072762777"
      ]
     },
     "execution_count": 228,
     "metadata": {},
     "output_type": "execute_result"
    }
   ],
   "source": [
    "np.linalg.cond((I - G**2 @ P))"
   ]
  },
  {
   "cell_type": "code",
   "execution_count": 191,
   "metadata": {
    "collapsed": false
   },
   "outputs": [],
   "source": [
    "num_trials = 1000\n",
    "num_steps = 200\n",
    "\n",
    "# Track returns for each trial for each state\n",
    "ret_mat = np.zeros((num_trials, ns))\n",
    "viz_mat = np.zeros((num_trials, ns))\n",
    "\n",
    "for i in range(num_trials):\n",
    "    # Run simulation\n",
    "    s = 0\n",
    "    step_lst = []\n",
    "    for step in range(num_steps):\n",
    "        sp = np.random.choice(states, p=P[s])\n",
    "        reward = R[s, sp]\n",
    "        step_lst.append([s, reward, sp])\n",
    "        s = sp\n",
    "\n",
    "    # Compute discounted return\n",
    "    ret = 0.0\n",
    "    for (s, r, sp) in reversed(step_lst):\n",
    "        ret += r\n",
    "        \n",
    "        # Update records\n",
    "        ret_mat[i, s] += ret\n",
    "        viz_mat[i, s] += 1\n",
    "        \n",
    "        # Prepare for next iteration\n",
    "        ret *= gm[s]"
   ]
  },
  {
   "cell_type": "code",
   "execution_count": 188,
   "metadata": {
    "collapsed": false
   },
   "outputs": [],
   "source": [
    "mc_mat = ret_mat/viz_mat"
   ]
  },
  {
   "cell_type": "code",
   "execution_count": 189,
   "metadata": {
    "collapsed": true
   },
   "outputs": [],
   "source": [
    "# Empirical variance\n",
    "sg_exp = np.var(mc_mat, axis=0)\n",
    "\n",
    "# Checking via expected mean\n",
    "sg_check = np.mean(mc_mat**2, axis=0) - v**2\n",
    "v_exp = np.mean(mc_mat, axis=0)"
   ]
  },
  {
   "cell_type": "code",
   "execution_count": 229,
   "metadata": {
    "collapsed": false
   },
   "outputs": [
    {
     "data": {
      "text/plain": [
       "array([ 0.00006,  0.00028,  0.00117,  0.00401,  0.     ])"
      ]
     },
     "execution_count": 229,
     "metadata": {},
     "output_type": "execute_result"
    }
   ],
   "source": [
    "sg_exp"
   ]
  },
  {
   "cell_type": "code",
   "execution_count": 177,
   "metadata": {
    "collapsed": false
   },
   "outputs": [
    {
     "data": {
      "text/plain": [
       "array([  8.73399608e-07,   3.87474506e-06,   1.35623355e-05,\n",
       "         6.31122749e-05,   0.00000000e+00])"
      ]
     },
     "execution_count": 177,
     "metadata": {},
     "output_type": "execute_result"
    }
   ],
   "source": [
    "sg_exp"
   ]
  },
  {
   "cell_type": "code",
   "execution_count": 230,
   "metadata": {
    "collapsed": false
   },
   "outputs": [
    {
     "data": {
      "text/plain": [
       "array([[ 0.00042],\n",
       "       [ 0.01482],\n",
       "       [ 0.03105],\n",
       "       [ 0.05093],\n",
       "       [ 0.00034]])"
      ]
     },
     "execution_count": 230,
     "metadata": {},
     "output_type": "execute_result"
    }
   ],
   "source": [
    "sg"
   ]
  },
  {
   "cell_type": "code",
   "execution_count": 232,
   "metadata": {
    "collapsed": false
   },
   "outputs": [
    {
     "data": {
      "text/plain": [
       "<Container object of 5 artists>"
      ]
     },
     "execution_count": 232,
     "metadata": {},
     "output_type": "execute_result"
    },
    {
     "data": {
      "image/png": "[encoded data removed]",
      "text/plain": [
       "<matplotlib.figure.Figure at 0x11299aa58>"
      ]
     },
     "metadata": {},
     "output_type": "display_data"
    }
   ],
   "source": [
    "plt.bar(states, sg)\n",
    "plt.bar(states, sg_exp, color='red')"
   ]
  },
  {
   "cell_type": "code",
   "execution_count": 149,
   "metadata": {
    "collapsed": false
   },
   "outputs": [
    {
     "data": {
      "text/plain": [
       "<Container object of 5 artists>"
      ]
     },
     "execution_count": 149,
     "metadata": {},
     "output_type": "execute_result"
    },
    {
     "data": {
      "image/png": "[encoded data removed]",
      "text/plain": [
       "<matplotlib.figure.Figure at 0x110eaa240>"
      ]
     },
     "metadata": {},
     "output_type": "display_data"
    }
   ],
   "source": [
    "plt.bar(states, sg_exp)"
   ]
  },
  {
   "cell_type": "code",
   "execution_count": 145,
   "metadata": {
    "collapsed": false
   },
   "outputs": [
    {
     "data": {
      "text/plain": [
       "array([ 0.02052859,  0.04559857,  0.10127524,  0.22548427,  0.5       ])"
      ]
     },
     "execution_count": 145,
     "metadata": {},
     "output_type": "execute_result"
    }
   ],
   "source": [
    "v_exp"
   ]
  },
  {
   "cell_type": "code",
   "execution_count": 146,
   "metadata": {
    "collapsed": false
   },
   "outputs": [
    {
     "data": {
      "text/plain": [
       "array([ -2.54605310e-05,  -3.60656976e-05,  -2.52444900e-05,\n",
       "        -4.84273832e-04,   2.22044605e-16])"
      ]
     },
     "execution_count": 146,
     "metadata": {},
     "output_type": "execute_result"
    }
   ],
   "source": [
    "v - v_exp"
   ]
  }
 ],
 "metadata": {
  "kernelspec": {
   "display_name": "Python 3",
   "language": "python",
   "name": "python3"
  },
  "language_info": {
   "codemirror_mode": {
    "name": "ipython",
    "version": 3
   },
   "file_extension": ".py",
   "mimetype": "text/x-python",
   "name": "python",
   "nbconvert_exporter": "python",
   "pygments_lexer": "ipython3",
   "version": "3.5.2"
  }
 },
 "nbformat": 4,
 "nbformat_minor": 0
}
