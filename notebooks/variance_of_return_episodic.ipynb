{
 "cells": [
  {
   "cell_type": "code",
   "execution_count": 1,
   "metadata": {
    "collapsed": false
   },
   "outputs": [],
   "source": [
    "%load_ext autoreload\n",
    "%autoreload 2\n",
    "\n",
    "%matplotlib inline\n",
    "import matplotlib as mpl\n",
    "import matplotlib.pyplot as plt\n",
    "import numpy as np\n",
    "from numpy.linalg import pinv\n",
    "\n",
    "import mdpy as mdp"
   ]
  },
  {
   "cell_type": "code",
   "execution_count": 2,
   "metadata": {
    "collapsed": true
   },
   "outputs": [],
   "source": [
    "np.set_printoptions(precision=5, suppress=True)"
   ]
  },
  {
   "cell_type": "markdown",
   "metadata": {},
   "source": [
    "# You-Only-Bump-Once\n",
    "\n",
    "The MDP is structured like a hallway where you can either advance or return to the start.\n",
    "Advancing at the end of the hallway yields a cumulant of 1, and also ends the episode."
   ]
  },
  {
   "cell_type": "code",
   "execution_count": 13,
   "metadata": {
    "collapsed": true
   },
   "outputs": [],
   "source": [
    "# Solve using the matrix formulation\n",
    "ns = 5\n",
    "states = np.arange(ns)\n",
    "\n",
    "I = np.eye(ns)\n",
    "\n",
    "# transition matrix\n",
    "p_forward = 0.5\n",
    "p_backward = 1 - p_forward\n",
    "P = np.diag(np.ones(ns-1)* p_forward, 1)\n",
    "P[:ns-1,0] = p_backward\n",
    "P[-1,-1] = 1\n",
    "\n",
    "# expected reward matrix & vector\n",
    "R = np.zeros((ns, ns))\n",
    "R[-2][-1] = 1\n",
    "rvec = np.sum(R*P, axis=1)\n",
    "\n",
    "# gamma matrix\n",
    "gm = np.ones(ns)*0.9\n",
    "gm[-1] = 0\n",
    "G = np.diag(gm)"
   ]
  },
  {
   "cell_type": "code",
   "execution_count": 7,
   "metadata": {
    "collapsed": false
   },
   "outputs": [
    {
     "data": {
      "text/plain": [
       "array([[ 0.5,  0.5,  0. ,  0. ,  0. ],\n",
       "       [ 0.5,  0. ,  0.5,  0. ,  0. ],\n",
       "       [ 0.5,  0. ,  0. ,  0.5,  0. ],\n",
       "       [ 0.5,  0. ,  0. ,  0. ,  0.5],\n",
       "       [ 0. ,  0. ,  0. ,  0. ,  1. ]])"
      ]
     },
     "execution_count": 7,
     "metadata": {},
     "output_type": "execute_result"
    }
   ],
   "source": [
    "P"
   ]
  },
  {
   "cell_type": "code",
   "execution_count": 8,
   "metadata": {
    "collapsed": false
   },
   "outputs": [
    {
     "data": {
      "text/plain": [
       "array([[ 0.45,  0.45,  0.  ,  0.  ,  0.  ],\n",
       "       [ 0.45,  0.  ,  0.45,  0.  ,  0.  ],\n",
       "       [ 0.45,  0.  ,  0.  ,  0.45,  0.  ],\n",
       "       [ 0.45,  0.  ,  0.  ,  0.  ,  0.  ],\n",
       "       [ 0.  ,  0.  ,  0.  ,  0.  ,  0.  ]])"
      ]
     },
     "execution_count": 8,
     "metadata": {},
     "output_type": "execute_result"
    }
   ],
   "source": [
    "P @ G"
   ]
  },
  {
   "cell_type": "code",
   "execution_count": 12,
   "metadata": {
    "collapsed": false
   },
   "outputs": [
    {
     "data": {
      "text/plain": [
       "array([[ 0. ,  0. ,  0. ,  0. ,  0. ],\n",
       "       [ 0. ,  0. ,  0. ,  0. ,  0. ],\n",
       "       [ 0. ,  0. ,  0. ,  0. ,  0. ],\n",
       "       [ 0. ,  0. ,  0. ,  0. ,  0.5],\n",
       "       [ 0. ,  0. ,  0. ,  0. ,  0. ]])"
      ]
     },
     "execution_count": 12,
     "metadata": {},
     "output_type": "execute_result"
    }
   ],
   "source": [
    "R * P"
   ]
  },
  {
   "cell_type": "code",
   "execution_count": 14,
   "metadata": {
    "collapsed": false
   },
   "outputs": [],
   "source": [
    "v = pinv(I - P @ G) @ rvec"
   ]
  },
  {
   "cell_type": "code",
   "execution_count": 15,
   "metadata": {
    "collapsed": false
   },
   "outputs": [
    {
     "data": {
      "text/plain": [
       "array([ 0.21156,  0.25857,  0.36304,  0.5952 ,  0.     ])"
      ]
     },
     "execution_count": 15,
     "metadata": {},
     "output_type": "execute_result"
    }
   ],
   "source": [
    "v"
   ]
  },
  {
   "cell_type": "code",
   "execution_count": 16,
   "metadata": {
    "collapsed": false
   },
   "outputs": [
    {
     "data": {
      "text/plain": [
       "array([ 0.04476,  0.06686,  0.1318 ,  0.35426,  0.     ])"
      ]
     },
     "execution_count": 16,
     "metadata": {},
     "output_type": "execute_result"
    }
   ],
   "source": [
    "v**2"
   ]
  },
  {
   "cell_type": "markdown",
   "metadata": {},
   "source": [
    "Define\n",
    "\n",
    "$$\n",
    "v(s) = r(s) + \\sum_{s'} p(s, s') \\gamma(s') v(s')\n",
    "$$\n",
    "\n",
    "$$\n",
    "F_{s} = \\sum_{s'} p(s,s') (r(s,s') + \\gamma v(s'))^2 - v^2(s)\n",
    "$$\n",
    "\n",
    "With the claim that the variance of the return is then\n",
    "\n",
    "$$\n",
    "\\begin{align}\n",
    "\\operatorname{Var}\\left[{G_t| S_t = s}\\right] &= \\sigma_s = F_s + \\gamma^2 \\sum_{s'} p(s,s') \\sigma_s\n",
    "\\\\\\\\\n",
    "\\vec{\\sigma} &= \\vec{F} + \\gamma^2 P \\vec{\\sigma}\n",
    "\\\\\\\\\n",
    "\\vec{\\sigma} &= (I - \\gamma^2 P)^{-1} \\vec{F}\n",
    "\\end{align}\n",
    "$$"
   ]
  },
  {
   "cell_type": "code",
   "execution_count": 17,
   "metadata": {
    "collapsed": false
   },
   "outputs": [
    {
     "data": {
      "text/plain": [
       "array([ 0.1904 ,  0.23271,  0.32674,  0.53568,  0.     ])"
      ]
     },
     "execution_count": 17,
     "metadata": {},
     "output_type": "execute_result"
    }
   ],
   "source": [
    "v * gm"
   ]
  },
  {
   "cell_type": "code",
   "execution_count": 19,
   "metadata": {
    "collapsed": false
   },
   "outputs": [
    {
     "data": {
      "text/plain": [
       "array([ 0.0725 ,  0.02708,  0.05338,  0.14348,  0.5    ])"
      ]
     },
     "execution_count": 19,
     "metadata": {},
     "output_type": "execute_result"
    }
   ],
   "source": [
    "np.sum(P*(R + G@v)**2, axis=0)"
   ]
  },
  {
   "cell_type": "code",
   "execution_count": 20,
   "metadata": {
    "collapsed": false
   },
   "outputs": [],
   "source": [
    "F = -(v**2).reshape(ns, 1)\n",
    "for (i,j), p in np.ndenumerate(P):\n",
    "    F[i] += P[i,j] * (R[i,j] + gm[j]*v[j])**2\n",
    "    \n",
    "sg = pinv(I - P @ G**2) @ F"
   ]
  },
  {
   "cell_type": "code",
   "execution_count": 21,
   "metadata": {
    "collapsed": false
   },
   "outputs": [
    {
     "data": {
      "text/plain": [
       "array([[ 0.00045],\n",
       "       [ 0.00465],\n",
       "       [ 0.0298 ],\n",
       "       [ 0.16386],\n",
       "       [ 0.     ]])"
      ]
     },
     "execution_count": 21,
     "metadata": {},
     "output_type": "execute_result"
    }
   ],
   "source": [
    "F"
   ]
  },
  {
   "cell_type": "code",
   "execution_count": 18,
   "metadata": {
    "collapsed": false
   },
   "outputs": [],
   "source": [
    "# P*(R + G v)"
   ]
  },
  {
   "cell_type": "code",
   "execution_count": 22,
   "metadata": {
    "collapsed": false
   },
   "outputs": [
    {
     "data": {
      "text/plain": [
       "array([[ 0.00045],\n",
       "       [ 0.00465],\n",
       "       [ 0.0298 ],\n",
       "       [ 0.16386],\n",
       "       [ 0.     ]])"
      ]
     },
     "execution_count": 22,
     "metadata": {},
     "output_type": "execute_result"
    }
   ],
   "source": [
    "tmp = np.zeros((ns, ns))\n",
    "for (i,j), p in np.ndenumerate(P):\n",
    "    tmp[i,j] = P[i,j]*(R[i,j] + gm[j]*v[j])**2\n",
    "    \n",
    "(np.sum(tmp, axis=1) - v**2).reshape(ns, 1)"
   ]
  },
  {
   "cell_type": "code",
   "execution_count": 24,
   "metadata": {
    "collapsed": false
   },
   "outputs": [],
   "source": [
    "# tmp"
   ]
  },
  {
   "cell_type": "code",
   "execution_count": 23,
   "metadata": {
    "collapsed": false
   },
   "outputs": [
    {
     "data": {
      "text/plain": [
       "array([[ 0.05362],\n",
       "       [ 0.07767],\n",
       "       [ 0.12668],\n",
       "       [ 0.18558],\n",
       "       [ 0.     ]])"
      ]
     },
     "execution_count": 23,
     "metadata": {},
     "output_type": "execute_result"
    }
   ],
   "source": [
    "sg"
   ]
  },
  {
   "cell_type": "code",
   "execution_count": 24,
   "metadata": {
    "collapsed": false
   },
   "outputs": [
    {
     "data": {
      "text/plain": [
       "6.6250585573071827"
      ]
     },
     "execution_count": 24,
     "metadata": {},
     "output_type": "execute_result"
    }
   ],
   "source": [
    "np.linalg.cond((I - P @ G**2))"
   ]
  },
  {
   "cell_type": "code",
   "execution_count": 63,
   "metadata": {
    "collapsed": false
   },
   "outputs": [],
   "source": [
    "num_episodes = 1000\n",
    "num_steps = 1000\n",
    "\n",
    "# Track returns for each trial for each state\n",
    "ret_mat = np.zeros((num_episodes, ns))\n",
    "viz_mat = np.zeros((num_episodes, ns))\n",
    "fv_mat  = np.zeros((num_episodes, ns))\n",
    "\n",
    "for i in range(num_episodes):\n",
    "    # Run simulation\n",
    "    s = 0\n",
    "    step_lst = []\n",
    "    for step in range(num_steps):\n",
    "        sp = np.random.choice(states, p=P[s])\n",
    "        reward = R[s, sp]\n",
    "        step_lst.append([s, reward, sp])\n",
    "        s = sp\n",
    "        if sp == ns-1:\n",
    "            break\n",
    "\n",
    "    # Compute discounted return (every visit MC)\n",
    "    ret = 0.0\n",
    "    for (s, r, sp) in reversed(step_lst):\n",
    "        ret += r\n",
    "        \n",
    "        # Update records\n",
    "        ret_mat[i, s] += ret\n",
    "        viz_mat[i, s] += 1\n",
    "        \n",
    "        # Prepare for next iteration\n",
    "        ret *= gm[s]\n",
    "        \n",
    "    # Compute discounted return (first visit MC)\n",
    "    \n",
    "# Adjust for the fact that terminal state is visited once\n",
    "viz_mat[:,-1] = 1"
   ]
  },
  {
   "cell_type": "markdown",
   "metadata": {},
   "source": [
    "\\begin{align}\n",
    "G_t &= R_{t+1} + \\gamma R_{t+2} + \\ldots\n",
    "\\\\\n",
    "&= r(S_{t}, S_{t+1}) + \\gamma r(S_{t+1}, S_{t+2}) + \\ldots\n",
    "\\end{align}"
   ]
  },
  {
   "cell_type": "code",
   "execution_count": 64,
   "metadata": {
    "collapsed": false
   },
   "outputs": [
    {
     "data": {
      "text/plain": [
       "array([[ 2.98263,  2.29308,  0.9    ,  1.     ,  0.     ],\n",
       "       [ 0.729  ,  0.81   ,  0.9    ,  1.     ,  0.     ],\n",
       "       [ 2.87638,  2.76673,  2.36657,  1.98469,  0.     ],\n",
       "       [ 1.97559,  0.81   ,  0.9    ,  1.     ,  0.     ],\n",
       "       [ 4.16485,  2.47964,  1.84847,  1.4555 ,  0.     ],\n",
       "       [ 4.6847 ,  3.14461,  1.09621,  1.07179,  0.     ],\n",
       "       [ 4.23927,  2.48544,  2.01614,  1.22873,  0.     ],\n",
       "       [ 4.84315,  2.69712,  1.1816 ,  1.     ,  0.     ],\n",
       "       [ 3.7384 ,  1.2883 ,  1.43144,  1.     ,  0.     ],\n",
       "       [ 5.31743,  2.55478,  0.99249,  1.06461,  0.     ]])"
      ]
     },
     "execution_count": 64,
     "metadata": {},
     "output_type": "execute_result"
    }
   ],
   "source": [
    "ret_mat[:10]"
   ]
  },
  {
   "cell_type": "code",
   "execution_count": 65,
   "metadata": {
    "collapsed": false
   },
   "outputs": [
    {
     "data": {
      "text/plain": [
       "array([[  6.,   4.,   1.,   1.,   1.],\n",
       "       [  1.,   1.,   1.,   1.,   1.],\n",
       "       [ 35.,  21.,  11.,   4.,   1.],\n",
       "       [  3.,   1.,   1.,   1.,   1.],\n",
       "       [ 26.,  13.,   8.,   3.,   1.],\n",
       "       [ 46.,  21.,   9.,   2.,   1.],\n",
       "       [ 30.,  13.,   7.,   5.,   1.],\n",
       "       [ 18.,  11.,   4.,   1.,   1.],\n",
       "       [  8.,   2.,   2.,   1.,   1.],\n",
       "       [ 31.,  11.,   3.,   2.,   1.]])"
      ]
     },
     "execution_count": 65,
     "metadata": {},
     "output_type": "execute_result"
    }
   ],
   "source": [
    "viz_mat[:10]"
   ]
  },
  {
   "cell_type": "code",
   "execution_count": 66,
   "metadata": {
    "collapsed": false
   },
   "outputs": [],
   "source": [
    "mc_mat = ret_mat/viz_mat"
   ]
  },
  {
   "cell_type": "code",
   "execution_count": 67,
   "metadata": {
    "collapsed": false
   },
   "outputs": [
    {
     "data": {
      "text/plain": [
       "array([[ 0.4971 ,  0.57327,  0.9    ,  1.     ,  0.     ],\n",
       "       [ 0.729  ,  0.81   ,  0.9    ,  1.     ,  0.     ],\n",
       "       [ 0.08218,  0.13175,  0.21514,  0.49617,  0.     ],\n",
       "       [ 0.65853,  0.81   ,  0.9    ,  1.     ,  0.     ],\n",
       "       [ 0.16019,  0.19074,  0.23106,  0.48517,  0.     ],\n",
       "       [ 0.10184,  0.14974,  0.1218 ,  0.53589,  0.     ],\n",
       "       [ 0.14131,  0.19119,  0.28802,  0.24575,  0.     ],\n",
       "       [ 0.26906,  0.24519,  0.2954 ,  1.     ,  0.     ],\n",
       "       [ 0.4673 ,  0.64415,  0.71572,  1.     ,  0.     ],\n",
       "       [ 0.17153,  0.23225,  0.33083,  0.53231,  0.     ]])"
      ]
     },
     "execution_count": 67,
     "metadata": {},
     "output_type": "execute_result"
    }
   ],
   "source": [
    "mc_mat[:10]"
   ]
  },
  {
   "cell_type": "code",
   "execution_count": 68,
   "metadata": {
    "collapsed": true
   },
   "outputs": [],
   "source": [
    "# Empirical mean\n",
    "v_exp = np.mean(mc_mat, axis=0)\n",
    "\n",
    "# Empirical variance\n",
    "sg_exp = np.var(mc_mat, axis=0)\n",
    "\n",
    "# Checking via expected mean\n",
    "sg_check = np.mean(mc_mat**2, axis=0) - v**2"
   ]
  },
  {
   "cell_type": "code",
   "execution_count": 69,
   "metadata": {
    "collapsed": false
   },
   "outputs": [
    {
     "data": {
      "text/plain": [
       "array([ 0.36805,  0.43248,  0.55142,  0.76203,  0.     ])"
      ]
     },
     "execution_count": 69,
     "metadata": {},
     "output_type": "execute_result"
    }
   ],
   "source": [
    "v_exp"
   ]
  },
  {
   "cell_type": "code",
   "execution_count": 70,
   "metadata": {
    "collapsed": false
   },
   "outputs": [
    {
     "data": {
      "text/plain": [
       "array([ 0.21156,  0.25857,  0.36304,  0.5952 ,  0.     ])"
      ]
     },
     "execution_count": 70,
     "metadata": {},
     "output_type": "execute_result"
    }
   ],
   "source": [
    "v"
   ]
  },
  {
   "cell_type": "code",
   "execution_count": 71,
   "metadata": {
    "collapsed": false
   },
   "outputs": [
    {
     "data": {
      "text/plain": [
       "array([[ 0.05362],\n",
       "       [ 0.07767],\n",
       "       [ 0.12668],\n",
       "       [ 0.18558],\n",
       "       [ 0.     ]])"
      ]
     },
     "execution_count": 71,
     "metadata": {},
     "output_type": "execute_result"
    }
   ],
   "source": [
    "sg"
   ]
  },
  {
   "cell_type": "code",
   "execution_count": 72,
   "metadata": {
    "collapsed": false
   },
   "outputs": [
    {
     "data": {
      "text/plain": [
       "array([ 0.03964,  0.05188,  0.06881,  0.0724 ,  0.     ])"
      ]
     },
     "execution_count": 72,
     "metadata": {},
     "output_type": "execute_result"
    }
   ],
   "source": [
    "sg_exp"
   ]
  },
  {
   "cell_type": "code",
   "execution_count": 45,
   "metadata": {
    "collapsed": false
   },
   "outputs": [
    {
     "data": {
      "text/plain": [
       "array([ 0.98187,  0.98154,  0.97877,  0.97124,  0.95704])"
      ]
     },
     "execution_count": 45,
     "metadata": {},
     "output_type": "execute_result"
    }
   ],
   "source": [
    "np.abs(sg_exp - sg.flat)/sg.flat"
   ]
  },
  {
   "cell_type": "code",
   "execution_count": 46,
   "metadata": {
    "collapsed": false
   },
   "outputs": [
    {
     "data": {
      "text/plain": [
       "array([ 54.15971,  53.16842,  46.10706,  33.77605,  22.27935])"
      ]
     },
     "execution_count": 46,
     "metadata": {},
     "output_type": "execute_result"
    }
   ],
   "source": [
    "np.abs(sg_exp - sg.flat)/sg_exp.flat"
   ]
  },
  {
   "cell_type": "markdown",
   "metadata": {},
   "source": [
    "Conversely, the empirical variance is substantially *lower* than what would be expected."
   ]
  },
  {
   "cell_type": "code",
   "execution_count": 47,
   "metadata": {
    "collapsed": false
   },
   "outputs": [
    {
     "data": {
      "text/plain": [
       "array([ 0.00031,  0.00045,  0.00085,  0.00175,  0.00059])"
      ]
     },
     "execution_count": 47,
     "metadata": {},
     "output_type": "execute_result"
    }
   ],
   "source": [
    "np.mean(mc_mat**2, axis=0) - np.mean(mc_mat, axis=0)**2"
   ]
  },
  {
   "cell_type": "code",
   "execution_count": 55,
   "metadata": {
    "collapsed": false
   },
   "outputs": [
    {
     "data": {
      "text/plain": [
       "array([ 960393.65913,  143906.61574,   43140.17153,   23447.11141,\n",
       "         19333.70885])"
      ]
     },
     "execution_count": 55,
     "metadata": {},
     "output_type": "execute_result"
    }
   ],
   "source": [
    "np.var(ret_mat**2/, axis=0)"
   ]
  },
  {
   "cell_type": "code",
   "execution_count": 48,
   "metadata": {
    "collapsed": false
   },
   "outputs": [
    {
     "data": {
      "text/plain": [
       "array([[ 0.12098,  0.14648,  0.20835,  0.34169,  0.60303],\n",
       "       [ 0.11937,  0.13807,  0.183  ,  0.31069,  0.58838],\n",
       "       [ 0.12503,  0.1545 ,  0.22448,  0.39174,  0.62046],\n",
       "       [ 0.11443,  0.14572,  0.20153,  0.34914,  0.59926],\n",
       "       [ 0.11649,  0.15045,  0.20998,  0.36076,  0.6175 ],\n",
       "       [ 0.09828,  0.12196,  0.17196,  0.28252,  0.58073],\n",
       "       [ 0.13069,  0.17052,  0.22825,  0.37916,  0.65146],\n",
       "       [ 0.09942,  0.12135,  0.1623 ,  0.2869 ,  0.59418],\n",
       "       [ 0.12387,  0.14784,  0.22946,  0.34781,  0.60667],\n",
       "       [ 0.11098,  0.13448,  0.1886 ,  0.29069,  0.59088]])"
      ]
     },
     "execution_count": 48,
     "metadata": {},
     "output_type": "execute_result"
    }
   ],
   "source": [
    "mc_mat[:10]"
   ]
  },
  {
   "cell_type": "code",
   "execution_count": 232,
   "metadata": {
    "collapsed": false
   },
   "outputs": [
    {
     "data": {
      "text/plain": [
       "<Container object of 5 artists>"
      ]
     },
     "execution_count": 232,
     "metadata": {},
     "output_type": "execute_result"
    },
    {
     "data": {
      "image/png": "[encoded data removed]",
      "text/plain": [
       "<matplotlib.figure.Figure at 0x11299aa58>"
      ]
     },
     "metadata": {},
     "output_type": "display_data"
    }
   ],
   "source": [
    "plt.bar(states, sg)\n",
    "plt.bar(states, sg_exp, color='red')"
   ]
  },
  {
   "cell_type": "code",
   "execution_count": 149,
   "metadata": {
    "collapsed": false
   },
   "outputs": [
    {
     "data": {
      "text/plain": [
       "<Container object of 5 artists>"
      ]
     },
     "execution_count": 149,
     "metadata": {},
     "output_type": "execute_result"
    },
    {
     "data": {
      "image/png": "[encoded data removed]",
      "text/plain": [
       "<matplotlib.figure.Figure at 0x110eaa240>"
      ]
     },
     "metadata": {},
     "output_type": "display_data"
    }
   ],
   "source": [
    "plt.bar(states, sg_exp)"
   ]
  },
  {
   "cell_type": "code",
   "execution_count": 145,
   "metadata": {
    "collapsed": false
   },
   "outputs": [
    {
     "data": {
      "text/plain": [
       "array([ 0.02052859,  0.04559857,  0.10127524,  0.22548427,  0.5       ])"
      ]
     },
     "execution_count": 145,
     "metadata": {},
     "output_type": "execute_result"
    }
   ],
   "source": [
    "v_exp"
   ]
  },
  {
   "cell_type": "code",
   "execution_count": 146,
   "metadata": {
    "collapsed": false
   },
   "outputs": [
    {
     "data": {
      "text/plain": [
       "array([ -2.54605310e-05,  -3.60656976e-05,  -2.52444900e-05,\n",
       "        -4.84273832e-04,   2.22044605e-16])"
      ]
     },
     "execution_count": 146,
     "metadata": {},
     "output_type": "execute_result"
    }
   ],
   "source": [
    "v - v_exp"
   ]
  }
 ],
 "metadata": {
  "kernelspec": {
   "display_name": "Python 3",
   "language": "python",
   "name": "python3"
  },
  "language_info": {
   "codemirror_mode": {
    "name": "ipython",
    "version": 3
   },
   "file_extension": ".py",
   "mimetype": "text/x-python",
   "name": "python",
   "nbconvert_exporter": "python",
   "pygments_lexer": "ipython3",
   "version": "3.5.2"
  }
 },
 "nbformat": 4,
 "nbformat_minor": 0
}
