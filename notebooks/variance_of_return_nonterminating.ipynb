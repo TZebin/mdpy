{
 "cells": [
  {
   "cell_type": "code",
   "execution_count": 1,
   "metadata": {
    "collapsed": false
   },
   "outputs": [],
   "source": [
    "%load_ext autoreload\n",
    "%autoreload 2\n",
    "\n",
    "%matplotlib inline\n",
    "import matplotlib as mpl\n",
    "import matplotlib.pyplot as plt\n",
    "import numpy as np\n",
    "from numpy.linalg import pinv\n",
    "\n",
    "import mdpy as mdp"
   ]
  },
  {
   "cell_type": "code",
   "execution_count": 2,
   "metadata": {
    "collapsed": true
   },
   "outputs": [],
   "source": [
    "np.set_printoptions(precision=5, suppress=True)"
   ]
  },
  {
   "cell_type": "markdown",
   "metadata": {},
   "source": [
    "# Bumping w/ Teleportation\n",
    "\n",
    "The MDP is structured like a hallway where you can either advance or return to the start.\n",
    "Advancing at the end of the hallway yields a cumulant of 1, and also returns the agent to the start."
   ]
  },
  {
   "cell_type": "code",
   "execution_count": 58,
   "metadata": {
    "collapsed": true
   },
   "outputs": [],
   "source": [
    "# Solve using the matrix formulation\n",
    "ns = 5\n",
    "states = np.arange(ns)\n",
    "\n",
    "I = np.eye(ns)\n",
    "# transition matrix\n",
    "p_forward = 0.5\n",
    "p_backward = 1 - p_forward\n",
    "P = np.diag(np.ones(ns-1)* p_forward, 1)\n",
    "P[:,0] = p_backward\n",
    "P[-1,0] = 1\n",
    "\n",
    "# expected reward matrix & vector\n",
    "R = np.zeros((ns, ns))\n",
    "R[-1][0] = 1*p_forward\n",
    "rvec = np.sum(P*R, axis=1)\n",
    "\n",
    "# gamma matrix\n",
    "gm = np.ones(ns)*0.9\n",
    "G = np.diag(gm)"
   ]
  },
  {
   "cell_type": "code",
   "execution_count": 4,
   "metadata": {
    "collapsed": false
   },
   "outputs": [
    {
     "data": {
      "text/plain": [
       "array([[ 0.5,  0.5,  0. ,  0. ,  0. ],\n",
       "       [ 0.5,  0. ,  0.5,  0. ,  0. ],\n",
       "       [ 0.5,  0. ,  0. ,  0.5,  0. ],\n",
       "       [ 0.5,  0. ,  0. ,  0. ,  0.5],\n",
       "       [ 1. ,  0. ,  0. ,  0. ,  0. ]])"
      ]
     },
     "execution_count": 4,
     "metadata": {},
     "output_type": "execute_result"
    }
   ],
   "source": [
    "P"
   ]
  },
  {
   "cell_type": "code",
   "execution_count": 6,
   "metadata": {
    "collapsed": false
   },
   "outputs": [
    {
     "data": {
      "text/plain": [
       "array([[ 0.45,  0.45,  0.  ,  0.  ,  0.  ],\n",
       "       [ 0.45,  0.  ,  0.45,  0.  ,  0.  ],\n",
       "       [ 0.45,  0.  ,  0.  ,  0.45,  0.  ],\n",
       "       [ 0.45,  0.  ,  0.  ,  0.  ,  0.45],\n",
       "       [ 0.9 ,  0.  ,  0.  ,  0.  ,  0.  ]])"
      ]
     },
     "execution_count": 6,
     "metadata": {},
     "output_type": "execute_result"
    }
   ],
   "source": [
    "P @ G"
   ]
  },
  {
   "cell_type": "code",
   "execution_count": 7,
   "metadata": {
    "collapsed": false
   },
   "outputs": [],
   "source": [
    "v = pinv(I - P @ G) @ rvec"
   ]
  },
  {
   "cell_type": "code",
   "execution_count": 8,
   "metadata": {
    "collapsed": false
   },
   "outputs": [
    {
     "data": {
      "text/plain": [
       "array([ 0.11489,  0.14042,  0.19715,  0.32323,  0.6034 ])"
      ]
     },
     "execution_count": 8,
     "metadata": {},
     "output_type": "execute_result"
    }
   ],
   "source": [
    "v"
   ]
  },
  {
   "cell_type": "code",
   "execution_count": 11,
   "metadata": {
    "collapsed": false
   },
   "outputs": [
    {
     "data": {
      "text/plain": [
       "array([ 0.0132 ,  0.01972,  0.03887,  0.10448,  0.36409])"
      ]
     },
     "execution_count": 11,
     "metadata": {},
     "output_type": "execute_result"
    }
   ],
   "source": [
    "v**2"
   ]
  },
  {
   "cell_type": "markdown",
   "metadata": {},
   "source": [
    "Define\n",
    "\n",
    "$$\n",
    "v(s) = r(s) + \\sum_{s'} p(s, s') \\gamma(s') v(s')\n",
    "$$\n",
    "\n",
    "$$\n",
    "F_{s} = \\sum_{s'} p(s,s') (r(s,s') + \\gamma v(s'))^2 - v^2(s)\n",
    "$$\n",
    "\n",
    "With the claim that the variance of the return is then\n",
    "\n",
    "$$\n",
    "\\begin{align}\n",
    "\\operatorname{Var}\\left[{G_t| S_t = s}\\right] &= \\sigma_s = F_s + \\gamma^2 \\sum_{s'} p(s,s') \\sigma_s\n",
    "\\\\\\\\\n",
    "\\vec{\\sigma} &= \\vec{F} + \\gamma^2 P \\vec{\\sigma}\n",
    "\\\\\\\\\n",
    "\\vec{\\sigma} &= (I - \\gamma^2 P)^{-1} \\vec{F}\n",
    "\\end{align}\n",
    "$$"
   ]
  },
  {
   "cell_type": "code",
   "execution_count": 9,
   "metadata": {
    "collapsed": false
   },
   "outputs": [
    {
     "data": {
      "text/plain": [
       "array([ 0.1034 ,  0.12638,  0.17744,  0.29091,  0.54306])"
      ]
     },
     "execution_count": 9,
     "metadata": {},
     "output_type": "execute_result"
    }
   ],
   "source": [
    "v * gm"
   ]
  },
  {
   "cell_type": "code",
   "execution_count": 237,
   "metadata": {
    "collapsed": false
   },
   "outputs": [
    {
     "data": {
      "text/plain": [
       "array([ 0.25,  0.  ,  0.  ,  0.  ,  0.  ])"
      ]
     },
     "execution_count": 237,
     "metadata": {},
     "output_type": "execute_result"
    }
   ],
   "source": [
    "np.sum(P*(R + G*v)**2, axis=0)"
   ]
  },
  {
   "cell_type": "code",
   "execution_count": 22,
   "metadata": {
    "collapsed": false
   },
   "outputs": [],
   "source": [
    "F = -(v**2).reshape(ns, 1)\n",
    "for (i,j), p in np.ndenumerate(P):\n",
    "    F[i] += P[i,j] * (R[i,j] + gm[j]*v[j])**2\n",
    "    \n",
    "sg = pinv(I - P @ G**2) @ F"
   ]
  },
  {
   "cell_type": "code",
   "execution_count": 13,
   "metadata": {
    "collapsed": false
   },
   "outputs": [
    {
     "data": {
      "text/plain": [
       "array([[ 0.00013],\n",
       "       [ 0.00137],\n",
       "       [ 0.00879],\n",
       "       [ 0.04833],\n",
       "       [ 0.     ]])"
      ]
     },
     "execution_count": 13,
     "metadata": {},
     "output_type": "execute_result"
    }
   ],
   "source": [
    "F"
   ]
  },
  {
   "cell_type": "code",
   "execution_count": 18,
   "metadata": {
    "collapsed": false
   },
   "outputs": [],
   "source": [
    "# P*(R + G v)"
   ]
  },
  {
   "cell_type": "code",
   "execution_count": 17,
   "metadata": {
    "collapsed": false
   },
   "outputs": [
    {
     "data": {
      "text/plain": [
       "array([[ 0.00013],\n",
       "       [ 0.00137],\n",
       "       [ 0.00879],\n",
       "       [ 0.04833],\n",
       "       [ 0.     ]])"
      ]
     },
     "execution_count": 17,
     "metadata": {},
     "output_type": "execute_result"
    }
   ],
   "source": [
    "tmp = np.zeros((ns, ns))\n",
    "for (i,j), p in np.ndenumerate(P):\n",
    "    tmp[i,j] = P[i,j]*(R[i,j] + gm[j]*v[j])**2\n",
    "    \n",
    "(np.sum(tmp, axis=1) - v**2).reshape(ns, 1)"
   ]
  },
  {
   "cell_type": "code",
   "execution_count": 24,
   "metadata": {
    "collapsed": false
   },
   "outputs": [],
   "source": [
    "# tmp"
   ]
  },
  {
   "cell_type": "code",
   "execution_count": 20,
   "metadata": {
    "collapsed": false
   },
   "outputs": [
    {
     "data": {
      "text/plain": [
       "array([[ 0.0169 ],\n",
       "       [ 0.02451],\n",
       "       [ 0.04023],\n",
       "       [ 0.06072],\n",
       "       [ 0.01369]])"
      ]
     },
     "execution_count": 20,
     "metadata": {},
     "output_type": "execute_result"
    }
   ],
   "source": [
    "sg"
   ]
  },
  {
   "cell_type": "code",
   "execution_count": 25,
   "metadata": {
    "collapsed": false
   },
   "outputs": [
    {
     "data": {
      "text/plain": [
       "9.8588122933019271"
      ]
     },
     "execution_count": 25,
     "metadata": {},
     "output_type": "execute_result"
    }
   ],
   "source": [
    "np.linalg.cond((I - P @ G**2))"
   ]
  },
  {
   "cell_type": "code",
   "execution_count": 31,
   "metadata": {
    "collapsed": false
   },
   "outputs": [],
   "source": [
    "num_trials = 1000\n",
    "num_steps = 1000\n",
    "\n",
    "# Track returns for each trial for each state\n",
    "ret_mat = np.zeros((num_trials, ns))\n",
    "viz_mat = np.zeros((num_trials, ns))\n",
    "\n",
    "for i in range(num_trials):\n",
    "    # Run simulation\n",
    "    s = 0\n",
    "    step_lst = []\n",
    "    for step in range(num_steps):\n",
    "        sp = np.random.choice(states, p=P[s])\n",
    "        reward = R[s, sp]\n",
    "        step_lst.append([s, reward, sp])\n",
    "        s = sp\n",
    "\n",
    "    # Compute discounted return\n",
    "    ret = 0.0\n",
    "    for (s, r, sp) in reversed(step_lst):\n",
    "        ret += r\n",
    "        \n",
    "        # Update records\n",
    "        ret_mat[i, s] += ret\n",
    "        viz_mat[i, s] += 1\n",
    "        \n",
    "        # Prepare for next iteration\n",
    "        ret *= gm[s]"
   ]
  },
  {
   "cell_type": "code",
   "execution_count": 32,
   "metadata": {
    "collapsed": false
   },
   "outputs": [],
   "source": [
    "mc_mat = ret_mat/viz_mat"
   ]
  },
  {
   "cell_type": "code",
   "execution_count": 38,
   "metadata": {
    "collapsed": true
   },
   "outputs": [],
   "source": [
    "# Empirical mean\n",
    "v_exp = np.mean(mc_mat, axis=0)\n",
    "\n",
    "# Empirical variance\n",
    "sg_exp = np.var(mc_mat, axis=0)\n",
    "\n",
    "# Checking via expected mean\n",
    "sg_check = np.mean(mc_mat**2, axis=0) - v**2"
   ]
  },
  {
   "cell_type": "code",
   "execution_count": 42,
   "metadata": {
    "collapsed": false
   },
   "outputs": [
    {
     "data": {
      "text/plain": [
       "array([ 0.00726,  0.0053 ,  0.0043 ,  0.00443,  0.00544])"
      ]
     },
     "execution_count": 42,
     "metadata": {},
     "output_type": "execute_result"
    }
   ],
   "source": [
    "np.abs(v_exp - v)/v"
   ]
  },
  {
   "cell_type": "markdown",
   "metadata": {},
   "source": [
    "The empirical return is accurate to within a percent for 1000 trials of 1000 steps"
   ]
  },
  {
   "cell_type": "code",
   "execution_count": 44,
   "metadata": {
    "collapsed": false
   },
   "outputs": [
    {
     "data": {
      "text/plain": [
       "array([[ 0.0169 ],\n",
       "       [ 0.02451],\n",
       "       [ 0.04023],\n",
       "       [ 0.06072],\n",
       "       [ 0.01369]])"
      ]
     },
     "execution_count": 44,
     "metadata": {},
     "output_type": "execute_result"
    }
   ],
   "source": [
    "sg"
   ]
  },
  {
   "cell_type": "code",
   "execution_count": 43,
   "metadata": {
    "collapsed": false
   },
   "outputs": [
    {
     "data": {
      "text/plain": [
       "array([ 0.00031,  0.00045,  0.00085,  0.00175,  0.00059])"
      ]
     },
     "execution_count": 43,
     "metadata": {},
     "output_type": "execute_result"
    }
   ],
   "source": [
    "sg_exp"
   ]
  },
  {
   "cell_type": "code",
   "execution_count": 45,
   "metadata": {
    "collapsed": false
   },
   "outputs": [
    {
     "data": {
      "text/plain": [
       "array([ 0.98187,  0.98154,  0.97877,  0.97124,  0.95704])"
      ]
     },
     "execution_count": 45,
     "metadata": {},
     "output_type": "execute_result"
    }
   ],
   "source": [
    "np.abs(sg_exp - sg.flat)/sg.flat"
   ]
  },
  {
   "cell_type": "code",
   "execution_count": 46,
   "metadata": {
    "collapsed": false
   },
   "outputs": [
    {
     "data": {
      "text/plain": [
       "array([ 54.15971,  53.16842,  46.10706,  33.77605,  22.27935])"
      ]
     },
     "execution_count": 46,
     "metadata": {},
     "output_type": "execute_result"
    }
   ],
   "source": [
    "np.abs(sg_exp - sg.flat)/sg_exp.flat"
   ]
  },
  {
   "cell_type": "markdown",
   "metadata": {},
   "source": [
    "Conversely, the empirical variance is substantially *lower* than what would be expected."
   ]
  },
  {
   "cell_type": "code",
   "execution_count": 47,
   "metadata": {
    "collapsed": false
   },
   "outputs": [
    {
     "data": {
      "text/plain": [
       "array([ 0.00031,  0.00045,  0.00085,  0.00175,  0.00059])"
      ]
     },
     "execution_count": 47,
     "metadata": {},
     "output_type": "execute_result"
    }
   ],
   "source": [
    "np.mean(mc_mat**2, axis=0) - np.mean(mc_mat, axis=0)**2"
   ]
  },
  {
   "cell_type": "code",
   "execution_count": 55,
   "metadata": {
    "collapsed": false
   },
   "outputs": [
    {
     "data": {
      "text/plain": [
       "array([ 960393.65913,  143906.61574,   43140.17153,   23447.11141,\n",
       "         19333.70885])"
      ]
     },
     "execution_count": 55,
     "metadata": {},
     "output_type": "execute_result"
    }
   ],
   "source": [
    "np.var(ret_mat**2/, axis=0)"
   ]
  },
  {
   "cell_type": "code",
   "execution_count": 48,
   "metadata": {
    "collapsed": false
   },
   "outputs": [
    {
     "data": {
      "text/plain": [
       "array([[ 0.12098,  0.14648,  0.20835,  0.34169,  0.60303],\n",
       "       [ 0.11937,  0.13807,  0.183  ,  0.31069,  0.58838],\n",
       "       [ 0.12503,  0.1545 ,  0.22448,  0.39174,  0.62046],\n",
       "       [ 0.11443,  0.14572,  0.20153,  0.34914,  0.59926],\n",
       "       [ 0.11649,  0.15045,  0.20998,  0.36076,  0.6175 ],\n",
       "       [ 0.09828,  0.12196,  0.17196,  0.28252,  0.58073],\n",
       "       [ 0.13069,  0.17052,  0.22825,  0.37916,  0.65146],\n",
       "       [ 0.09942,  0.12135,  0.1623 ,  0.2869 ,  0.59418],\n",
       "       [ 0.12387,  0.14784,  0.22946,  0.34781,  0.60667],\n",
       "       [ 0.11098,  0.13448,  0.1886 ,  0.29069,  0.59088]])"
      ]
     },
     "execution_count": 48,
     "metadata": {},
     "output_type": "execute_result"
    }
   ],
   "source": [
    "mc_mat[:10]"
   ]
  },
  {
   "cell_type": "code",
   "execution_count": 232,
   "metadata": {
    "collapsed": false
   },
   "outputs": [
    {
     "data": {
      "text/plain": [
       "<Container object of 5 artists>"
      ]
     },
     "execution_count": 232,
     "metadata": {},
     "output_type": "execute_result"
    },
    {
     "data": {
      "image/png": "[encoded data removed]",
      "text/plain": [
       "<matplotlib.figure.Figure at 0x11299aa58>"
      ]
     },
     "metadata": {},
     "output_type": "display_data"
    }
   ],
   "source": [
    "plt.bar(states, sg)\n",
    "plt.bar(states, sg_exp, color='red')"
   ]
  },
  {
   "cell_type": "code",
   "execution_count": 149,
   "metadata": {
    "collapsed": false
   },
   "outputs": [
    {
     "data": {
      "text/plain": [
       "<Container object of 5 artists>"
      ]
     },
     "execution_count": 149,
     "metadata": {},
     "output_type": "execute_result"
    },
    {
     "data": {
      "image/png": "[encoded data removed]",
      "text/plain": [
       "<matplotlib.figure.Figure at 0x110eaa240>"
      ]
     },
     "metadata": {},
     "output_type": "display_data"
    }
   ],
   "source": [
    "plt.bar(states, sg_exp)"
   ]
  },
  {
   "cell_type": "code",
   "execution_count": 145,
   "metadata": {
    "collapsed": false
   },
   "outputs": [
    {
     "data": {
      "text/plain": [
       "array([ 0.02052859,  0.04559857,  0.10127524,  0.22548427,  0.5       ])"
      ]
     },
     "execution_count": 145,
     "metadata": {},
     "output_type": "execute_result"
    }
   ],
   "source": [
    "v_exp"
   ]
  },
  {
   "cell_type": "code",
   "execution_count": 146,
   "metadata": {
    "collapsed": false
   },
   "outputs": [
    {
     "data": {
      "text/plain": [
       "array([ -2.54605310e-05,  -3.60656976e-05,  -2.52444900e-05,\n",
       "        -4.84273832e-04,   2.22044605e-16])"
      ]
     },
     "execution_count": 146,
     "metadata": {},
     "output_type": "execute_result"
    }
   ],
   "source": [
    "v - v_exp"
   ]
  }
 ],
 "metadata": {
  "kernelspec": {
   "display_name": "Python 3",
   "language": "python",
   "name": "python3"
  },
  "language_info": {
   "codemirror_mode": {
    "name": "ipython",
    "version": 3
   },
   "file_extension": ".py",
   "mimetype": "text/x-python",
   "name": "python",
   "nbconvert_exporter": "python",
   "pygments_lexer": "ipython3",
   "version": "3.5.2"
  }
 },
 "nbformat": 4,
 "nbformat_minor": 0
}
