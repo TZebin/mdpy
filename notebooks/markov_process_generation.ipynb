{
 "cells": [
  {
   "cell_type": "code",
   "execution_count": 43,
   "metadata": {
    "collapsed": false
   },
   "outputs": [
    {
     "name": "stdout",
     "output_type": "stream",
     "text": [
      "The autoreload extension is already loaded. To reload it, use:\n",
      "  %reload_ext autoreload\n"
     ]
    }
   ],
   "source": [
    "%load_ext autoreload \n",
    "%autoreload 2\n",
    "%matplotlib inline\n",
    "\n",
    "import matplotlib as mpl\n",
    "import matplotlib.pyplot as plt\n",
    "import networkx as nx\n",
    "import numpy as np\n",
    "import numpy.linalg as la\n",
    "from numbers import Number\n",
    "\n",
    "import scipy.linalg\n",
    "import scipy.stats\n",
    "\n",
    "import mdpy"
   ]
  },
  {
   "cell_type": "code",
   "execution_count": 34,
   "metadata": {
    "collapsed": true
   },
   "outputs": [],
   "source": [
    "import toolz"
   ]
  },
  {
   "cell_type": "code",
   "execution_count": 2,
   "metadata": {
    "collapsed": true
   },
   "outputs": [],
   "source": [
    "A = np.eye(3)"
   ]
  },
  {
   "cell_type": "code",
   "execution_count": 3,
   "metadata": {
    "collapsed": false
   },
   "outputs": [
    {
     "data": {
      "text/plain": [
       "(1, 3)"
      ]
     },
     "execution_count": 3,
     "metadata": {},
     "output_type": "execute_result"
    }
   ],
   "source": [
    "A[0, None].shape"
   ]
  },
  {
   "cell_type": "code",
   "execution_count": 4,
   "metadata": {
    "collapsed": false
   },
   "outputs": [
    {
     "data": {
      "text/plain": [
       "array([ 1.,  0.,  0.])"
      ]
     },
     "execution_count": 4,
     "metadata": {},
     "output_type": "execute_result"
    }
   ],
   "source": [
    "np.squeeze(A[0, None])"
   ]
  },
  {
   "cell_type": "code",
   "execution_count": 5,
   "metadata": {
    "collapsed": true
   },
   "outputs": [],
   "source": [
    "B = np.arange(8).reshape(2, 2, 2)"
   ]
  },
  {
   "cell_type": "code",
   "execution_count": 6,
   "metadata": {
    "collapsed": false
   },
   "outputs": [
    {
     "data": {
      "text/plain": [
       "array([[[0, 1],\n",
       "        [2, 3]],\n",
       "\n",
       "       [[4, 5],\n",
       "        [6, 7]]])"
      ]
     },
     "execution_count": 6,
     "metadata": {},
     "output_type": "execute_result"
    }
   ],
   "source": [
    "B"
   ]
  },
  {
   "cell_type": "code",
   "execution_count": 7,
   "metadata": {
    "collapsed": false
   },
   "outputs": [
    {
     "data": {
      "text/plain": [
       "array([4, 5])"
      ]
     },
     "execution_count": 7,
     "metadata": {},
     "output_type": "execute_result"
    }
   ],
   "source": [
    "np.squeeze(B[1, None, 0])"
   ]
  },
  {
   "cell_type": "code",
   "execution_count": null,
   "metadata": {
    "collapsed": true
   },
   "outputs": [],
   "source": []
  },
  {
   "cell_type": "code",
   "execution_count": 8,
   "metadata": {
    "collapsed": false
   },
   "outputs": [
    {
     "data": {
      "text/plain": [
       "6"
      ]
     },
     "execution_count": 8,
     "metadata": {},
     "output_type": "execute_result"
    }
   ],
   "source": [
    "B[1, 1, 0]"
   ]
  },
  {
   "cell_type": "code",
   "execution_count": 10,
   "metadata": {
    "collapsed": false
   },
   "outputs": [],
   "source": [
    "A = np.arange(9).reshape(3, 3)"
   ]
  },
  {
   "cell_type": "code",
   "execution_count": 11,
   "metadata": {
    "collapsed": false
   },
   "outputs": [
    {
     "data": {
      "text/plain": [
       "array([[ 3],\n",
       "       [12],\n",
       "       [21]])"
      ]
     },
     "execution_count": 11,
     "metadata": {},
     "output_type": "execute_result"
    }
   ],
   "source": [
    "A.sum(axis=1, keepdims=True)"
   ]
  },
  {
   "cell_type": "code",
   "execution_count": 12,
   "metadata": {
    "collapsed": false
   },
   "outputs": [
    {
     "data": {
      "text/plain": [
       "array([ 1.,  1.,  1.])"
      ]
     },
     "execution_count": 12,
     "metadata": {},
     "output_type": "execute_result"
    }
   ],
   "source": [
    "(A / A.sum(axis=1, keepdims=True)).sum(axis=1)"
   ]
  },
  {
   "cell_type": "code",
   "execution_count": 13,
   "metadata": {
    "collapsed": true
   },
   "outputs": [],
   "source": [
    "def stochastic(ns, rv=None):\n",
    "    if rv is None:\n",
    "        rv = scipy.stats.uniform()\n",
    "    ret = np.abs(rv.rvs((ns, ns)))\n",
    "    ret = ret/ret.sum(axis=1, keepdims=True)\n",
    "    return ret"
   ]
  },
  {
   "cell_type": "code",
   "execution_count": 14,
   "metadata": {
    "collapsed": false
   },
   "outputs": [],
   "source": [
    "tmat = stochastic(3)"
   ]
  },
  {
   "cell_type": "code",
   "execution_count": 15,
   "metadata": {
    "collapsed": true
   },
   "outputs": [],
   "source": [
    "rmat = np.eye(3)"
   ]
  },
  {
   "cell_type": "code",
   "execution_count": 16,
   "metadata": {
    "collapsed": false
   },
   "outputs": [
    {
     "name": "stdout",
     "output_type": "stream",
     "text": [
      "[[ 0.33385834  0.27981766  0.386324  ]\n",
      " [ 0.22196796  0.62884377  0.14918827]\n",
      " [ 0.26654253  0.37494244  0.35851503]]\n",
      "[[ 1.  0.  0.]\n",
      " [ 0.  1.  0.]\n",
      " [ 0.  0.  1.]]\n"
     ]
    }
   ],
   "source": [
    "print(tmat)\n",
    "print(rmat)"
   ]
  },
  {
   "cell_type": "code",
   "execution_count": 89,
   "metadata": {
    "collapsed": false
   },
   "outputs": [],
   "source": [
    "class MarkovProcess:\n",
    "    \"\"\"A class implementing Markov processes, which are like MDPs where you\n",
    "    don't make any decisions.\n",
    "    It requires two arrays, one for the transition probabilities (`T`) and\n",
    "    another of the same shape for the expected rewards (`R`).\n",
    "\n",
    "    For example, given state `s` and next state `sp`, the probability of the\n",
    "    transition `(s, sp)` is `T[s, sp]`, with reward `R[s, sp]`.\n",
    "    \"\"\"\n",
    "    def __init__(self, transitions, rewards):\n",
    "        T = np.array(transitions)\n",
    "        R = np.array(rewards)\n",
    "        # Check that shapes are valid\n",
    "        assert(2 == T.ndim == R.ndim)\n",
    "        assert(T.shape == R.shape)\n",
    "        assert(T.shape[0] == T.shape[1])\n",
    "        # Check that transition probabilities sum to one\n",
    "        assert(np.allclose(1, np.einsum('ij->i', T)))\n",
    "\n",
    "        # Initialize variables\n",
    "        self.T = T\n",
    "        self.R = R\n",
    "        self._states = np.arange(len(T))\n",
    "\n",
    "    @classmethod\n",
    "    def from_unnormalized(cls, transitions, rewards=None):\n",
    "        \"\"\"Create a Markov Process using an arbitrary transition matrix by\n",
    "        taking the absolute value and normalizing the transition probabilities.\n",
    "        \"\"\"\n",
    "        pass\n",
    "    \n",
    "    def prob(self, s, sp=None):\n",
    "        return np.squeeze(self.T[s, sp])\n",
    "\n",
    "    def transition(self, s):\n",
    "        return np.random.choice(self._states, p=self.T[s])\n",
    "\n",
    "    def step(self, s):\n",
    "        sp = np.random.choice(self._states, p=self.T[s])\n",
    "        r  = self.reward(s, sp)\n",
    "        return (sp, r)\n",
    "    \n",
    "    def reward(self, s, sp):\n",
    "        r = self.R[s, sp]\n",
    "        if isinstance(r, Number):\n",
    "            return r\n",
    "        elif isinstance(r, scipy.stats._distn_infrastructure.rv_frozen):\n",
    "            return r.rvs()\n",
    "        elif isinstance(r, scipy.stats._distn_infrastructure.rv_generic):\n",
    "            return r.rvs()\n",
    "        elif callable(r):\n",
    "            return r(s, sp)\n",
    "        else:\n",
    "            raise TypeError(\"Reward for transition not understood: (%d, %d)\"%(s, sp))\n",
    "    \n",
    "    def expected_reward(self, s, sp=None):\n",
    "        \"\"\"Compute the expected reward either given a state or a transition.\"\"\"\n",
    "        def _expectation(rwd):\n",
    "            \"\"\"Get the expected value of a reward.\"\"\"\n",
    "            if isinstance(rwd, Number):\n",
    "                return r\n",
    "            elif isinstance(rwd, scipy.stats._distn_infrastructure.rv_frozen):\n",
    "                return r.mean()\n",
    "            elif isinstance(rwd, scipy.stats._distn_infrastructure.rv_generic):\n",
    "                return r.mean()\n",
    "            else:\n",
    "                raise TypeError(\"Unable to get expected value of reward: %s\"%(rwd))\n",
    "            \n",
    "        # Compute expectation, either for `(s, sp)` or over possible next states \n",
    "        if sp is not None:\n",
    "            return _expectation(self.R[s, sp])\n",
    "        else:\n",
    "            return self.T[s]*[_expectation(r) for r in self.R[s]]"
   ]
  },
  {
   "cell_type": "code",
   "execution_count": null,
   "metadata": {
    "collapsed": true
   },
   "outputs": [],
   "source": []
  },
  {
   "cell_type": "code",
   "execution_count": 64,
   "metadata": {
    "collapsed": false
   },
   "outputs": [
    {
     "data": {
      "text/plain": [
       "<scipy.stats._distn_infrastructure.rv_frozen at 0x7f0e05ec1a20>"
      ]
     },
     "execution_count": 64,
     "metadata": {},
     "output_type": "execute_result"
    }
   ],
   "source": [
    "r1"
   ]
  },
  {
   "cell_type": "code",
   "execution_count": 61,
   "metadata": {
    "collapsed": false
   },
   "outputs": [
    {
     "data": {
      "text/plain": [
       "0.0"
      ]
     },
     "execution_count": 61,
     "metadata": {},
     "output_type": "execute_result"
    }
   ],
   "source": [
    "scipy.stats.norm.mean()"
   ]
  },
  {
   "cell_type": "code",
   "execution_count": 47,
   "metadata": {
    "collapsed": false
   },
   "outputs": [
    {
     "data": {
      "text/plain": [
       "scipy.stats._distn_infrastructure.rv_frozen"
      ]
     },
     "execution_count": 47,
     "metadata": {},
     "output_type": "execute_result"
    }
   ],
   "source": [
    "type(r1)"
   ]
  },
  {
   "cell_type": "code",
   "execution_count": 67,
   "metadata": {
    "collapsed": false
   },
   "outputs": [
    {
     "ename": "NameError",
     "evalue": "name 'P' is not defined",
     "output_type": "error",
     "traceback": [
      "\u001b[0;31m---------------------------------------------------------------------------\u001b[0m",
      "\u001b[0;31mNameError\u001b[0m                                 Traceback (most recent call last)",
      "\u001b[0;32m<ipython-input-67-5c6d81c07f7c>\u001b[0m in \u001b[0;36m<module>\u001b[0;34m()\u001b[0m\n\u001b[0;32m----> 1\u001b[0;31m \u001b[0mP\u001b[0m\u001b[0;34m\u001b[0m\u001b[0m\n\u001b[0m",
      "\u001b[0;31mNameError\u001b[0m: name 'P' is not defined"
     ]
    }
   ],
   "source": [
    "P"
   ]
  },
  {
   "cell_type": "code",
   "execution_count": 69,
   "metadata": {
    "collapsed": false
   },
   "outputs": [
    {
     "data": {
      "text/plain": [
       "array([ 0.33385834,  0.27981766,  0.386324  ])"
      ]
     },
     "execution_count": 69,
     "metadata": {},
     "output_type": "execute_result"
    }
   ],
   "source": [
    "tmat[0]"
   ]
  },
  {
   "cell_type": "code",
   "execution_count": 72,
   "metadata": {
    "collapsed": false
   },
   "outputs": [
    {
     "data": {
      "text/plain": [
       "array([  2.72450891e-01,   1.85592739e-01,   1.29543337e-04])"
      ]
     },
     "execution_count": 72,
     "metadata": {},
     "output_type": "execute_result"
    }
   ],
   "source": [
    "tmat[0] * [i.mean() for i in Q[0]]"
   ]
  },
  {
   "cell_type": "code",
   "execution_count": 78,
   "metadata": {
    "collapsed": false
   },
   "outputs": [
    {
     "data": {
      "text/plain": [
       "[(0, 0, 0.81606735118416418),\n",
       " (0, 1, 0.66326314624079041),\n",
       " (0, 2, 0.00033532303249728113),\n",
       " (1, 0, 0.058089822241082834),\n",
       " (1, 1, 0.68095614560515938),\n",
       " (1, 2, 0.18451649845694773),\n",
       " (2, 0, 0.69125336736939358),\n",
       " (2, 1, 0.99064060701854373),\n",
       " (2, 2, 0.13120483043473896)]"
      ]
     },
     "execution_count": 78,
     "metadata": {},
     "output_type": "execute_result"
    }
   ],
   "source": [
    "[(i, j, x.mean()) for (i, j), x in np.ndenumerate(Q)]"
   ]
  },
  {
   "cell_type": "code",
   "execution_count": 88,
   "metadata": {
    "collapsed": false
   },
   "outputs": [
    {
     "name": "stdout",
     "output_type": "stream",
     "text": [
      "[[  2.72450891e-01   1.85592739e-01   1.29543337e-04]\n",
      " [  1.28940794e-02   4.28215030e-01   2.75276970e-02]\n",
      " [  1.84248421e-01   3.71433204e-01   4.70389040e-02]]\n"
     ]
    }
   ],
   "source": [
    "print(np.reshape([x.mean()*y for x,y in zip(Q.flat, tmat.flat)], (3,3)))"
   ]
  },
  {
   "cell_type": "code",
   "execution_count": 79,
   "metadata": {
    "collapsed": false
   },
   "outputs": [
    {
     "data": {
      "text/plain": [
       "array([[ 0.33385834,  0.27981766,  0.386324  ],\n",
       "       [ 0.22196796,  0.62884377,  0.14918827],\n",
       "       [ 0.26654253,  0.37494244,  0.35851503]])"
      ]
     },
     "execution_count": 79,
     "metadata": {},
     "output_type": "execute_result"
    }
   ],
   "source": [
    "tmat"
   ]
  },
  {
   "cell_type": "code",
   "execution_count": 73,
   "metadata": {
    "collapsed": false
   },
   "outputs": [
    {
     "ename": "TypeError",
     "evalue": "unsupported operand type(s) for +: 'rv_frozen' and 'rv_frozen'",
     "output_type": "error",
     "traceback": [
      "\u001b[0;31m---------------------------------------------------------------------------\u001b[0m",
      "\u001b[0;31mTypeError\u001b[0m                                 Traceback (most recent call last)",
      "\u001b[0;32m<ipython-input-73-5d06a3141e59>\u001b[0m in \u001b[0;36m<module>\u001b[0;34m()\u001b[0m\n\u001b[0;32m----> 1\u001b[0;31m \u001b[0;34m[\u001b[0m\u001b[0mi\u001b[0m\u001b[0;34m.\u001b[0m\u001b[0mmean\u001b[0m\u001b[0;34m(\u001b[0m\u001b[0;34m)\u001b[0m \u001b[0;32mfor\u001b[0m \u001b[0mi\u001b[0m \u001b[0;32min\u001b[0m \u001b[0mQ\u001b[0m\u001b[0;34m]\u001b[0m\u001b[0;34m\u001b[0m\u001b[0m\n\u001b[0m",
      "\u001b[0;32m<ipython-input-73-5d06a3141e59>\u001b[0m in \u001b[0;36m<listcomp>\u001b[0;34m(.0)\u001b[0m\n\u001b[0;32m----> 1\u001b[0;31m \u001b[0;34m[\u001b[0m\u001b[0mi\u001b[0m\u001b[0;34m.\u001b[0m\u001b[0mmean\u001b[0m\u001b[0;34m(\u001b[0m\u001b[0;34m)\u001b[0m \u001b[0;32mfor\u001b[0m \u001b[0mi\u001b[0m \u001b[0;32min\u001b[0m \u001b[0mQ\u001b[0m\u001b[0;34m]\u001b[0m\u001b[0;34m\u001b[0m\u001b[0m\n\u001b[0m",
      "\u001b[0;32m/home/bab/.anaconda3/envs/varcompfa/lib/python3.5/site-packages/numpy/core/_methods.py\u001b[0m in \u001b[0;36m_mean\u001b[0;34m(a, axis, dtype, out, keepdims)\u001b[0m\n\u001b[1;32m     63\u001b[0m         \u001b[0mdtype\u001b[0m \u001b[0;34m=\u001b[0m \u001b[0mmu\u001b[0m\u001b[0;34m.\u001b[0m\u001b[0mdtype\u001b[0m\u001b[0;34m(\u001b[0m\u001b[0;34m'f8'\u001b[0m\u001b[0;34m)\u001b[0m\u001b[0;34m\u001b[0m\u001b[0m\n\u001b[1;32m     64\u001b[0m \u001b[0;34m\u001b[0m\u001b[0m\n\u001b[0;32m---> 65\u001b[0;31m     \u001b[0mret\u001b[0m \u001b[0;34m=\u001b[0m \u001b[0mumr_sum\u001b[0m\u001b[0;34m(\u001b[0m\u001b[0marr\u001b[0m\u001b[0;34m,\u001b[0m \u001b[0maxis\u001b[0m\u001b[0;34m,\u001b[0m \u001b[0mdtype\u001b[0m\u001b[0;34m,\u001b[0m \u001b[0mout\u001b[0m\u001b[0;34m,\u001b[0m \u001b[0mkeepdims\u001b[0m\u001b[0;34m)\u001b[0m\u001b[0;34m\u001b[0m\u001b[0m\n\u001b[0m\u001b[1;32m     66\u001b[0m     \u001b[0;32mif\u001b[0m \u001b[0misinstance\u001b[0m\u001b[0;34m(\u001b[0m\u001b[0mret\u001b[0m\u001b[0;34m,\u001b[0m \u001b[0mmu\u001b[0m\u001b[0;34m.\u001b[0m\u001b[0mndarray\u001b[0m\u001b[0;34m)\u001b[0m\u001b[0;34m:\u001b[0m\u001b[0;34m\u001b[0m\u001b[0m\n\u001b[1;32m     67\u001b[0m         ret = um.true_divide(\n",
      "\u001b[0;31mTypeError\u001b[0m: unsupported operand type(s) for +: 'rv_frozen' and 'rv_frozen'"
     ]
    }
   ],
   "source": [
    "[i.mean() for i in Q]"
   ]
  },
  {
   "cell_type": "code",
   "execution_count": 45,
   "metadata": {
    "collapsed": false
   },
   "outputs": [
    {
     "data": {
      "text/plain": [
       "False"
      ]
     },
     "execution_count": 45,
     "metadata": {},
     "output_type": "execute_result"
    }
   ],
   "source": [
    "isinstance(r1, (scipy.stats.rv_continuous, scipy.stats.rv_discrete))"
   ]
  },
  {
   "cell_type": "code",
   "execution_count": 36,
   "metadata": {
    "collapsed": true
   },
   "outputs": [],
   "source": [
    "r1 = scipy.stats.norm()"
   ]
  },
  {
   "cell_type": "code",
   "execution_count": 40,
   "metadata": {
    "collapsed": false
   },
   "outputs": [
    {
     "data": {
      "text/plain": [
       "array([-0.44041997])"
      ]
     },
     "execution_count": 40,
     "metadata": {},
     "output_type": "execute_result"
    }
   ],
   "source": [
    "r1.rvs(1)"
   ]
  },
  {
   "cell_type": "code",
   "execution_count": 70,
   "metadata": {
    "collapsed": true
   },
   "outputs": [],
   "source": [
    "Q = np.reshape([scipy.stats.norm(loc=np.random.random()) for i in range(9)], (3, 3))"
   ]
  },
  {
   "cell_type": "code",
   "execution_count": 71,
   "metadata": {
    "collapsed": false
   },
   "outputs": [
    {
     "data": {
      "text/plain": [
       "array([[<scipy.stats._distn_infrastructure.rv_frozen object at 0x7f0e05dffcc0>,\n",
       "        <scipy.stats._distn_infrastructure.rv_frozen object at 0x7f0e05e002b0>,\n",
       "        <scipy.stats._distn_infrastructure.rv_frozen object at 0x7f0e05eb3208>],\n",
       "       [<scipy.stats._distn_infrastructure.rv_frozen object at 0x7f0e05eb30b8>,\n",
       "        <scipy.stats._distn_infrastructure.rv_frozen object at 0x7f0e05eb3588>,\n",
       "        <scipy.stats._distn_infrastructure.rv_frozen object at 0x7f0e05eb3898>],\n",
       "       [<scipy.stats._distn_infrastructure.rv_frozen object at 0x7f0e05eb3a20>,\n",
       "        <scipy.stats._distn_infrastructure.rv_frozen object at 0x7f0e05eb3cf8>,\n",
       "        <scipy.stats._distn_infrastructure.rv_frozen object at 0x7f0e05ead0f0>]], dtype=object)"
      ]
     },
     "execution_count": 71,
     "metadata": {},
     "output_type": "execute_result"
    }
   ],
   "source": [
    "Q"
   ]
  },
  {
   "cell_type": "code",
   "execution_count": null,
   "metadata": {
    "collapsed": true
   },
   "outputs": [],
   "source": []
  }
 ],
 "metadata": {
  "anaconda-cloud": {},
  "kernelspec": {
   "display_name": "Python [conda env:varcompfa]",
   "language": "python",
   "name": "conda-env-varcompfa-py"
  },
  "language_info": {
   "codemirror_mode": {
    "name": "ipython",
    "version": 3
   },
   "file_extension": ".py",
   "mimetype": "text/x-python",
   "name": "python",
   "nbconvert_exporter": "python",
   "pygments_lexer": "ipython3",
   "version": "3.5.2"
  }
 },
 "nbformat": 4,
 "nbformat_minor": 1
}
