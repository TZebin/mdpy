{
 "cells": [
  {
   "cell_type": "code",
   "execution_count": 1,
   "metadata": {
    "collapsed": false
   },
   "outputs": [
    {
     "name": "stdout",
     "output_type": "stream",
     "text": [
      "The autoreload extension is already loaded. To reload it, use:\n",
      "  %reload_ext autoreload\n"
     ]
    }
   ],
   "source": [
    "%load_ext autoreload \n",
    "%autoreload 2\n",
    "%matplotlib inline\n",
    "\n",
    "import matplotlib as mpl\n",
    "import matplotlib.pyplot as plt\n",
    "import networkx as nx\n",
    "import numpy as np\n",
    "import numpy.linalg as la\n",
    "\n",
    "import scipy.linalg\n",
    "import scipy.stats\n",
    "\n",
    "import mdpy"
   ]
  },
  {
   "cell_type": "markdown",
   "metadata": {},
   "source": [
    "# Introduction to mdpy\n",
    "\n",
    "If you're reading this notebook, I am forced to assume that you're interested in Markov chains, Markov Decision Processes, and perhaps even in reinforcement learning.\n",
    "\n",
    "If not, maybe come back after a trip to [the appropriate Wikipedia page](https://en.wikipedia.org/wiki/Markov_chain)?\n",
    "\n",
    "I wrote `mdpy` to encapsulate some of the code I found myself rewriting when analyzing MDPs.\n",
    "Most of the time, AI researchers model an environment as an MDP, but then avoid actually taking advantage of the available math.\n",
    "For example, when analyzing a new environment, they estimate the value function of a polciy by running a tremendous number of simulations.\n",
    "But if your environment is discrete and Markovian, it's *straightforward to solve for the value function analytically*.\n",
    "\n",
    "So you not only get the exact results, but you get them *faster*, which allows for things like generating random MDPs to test algorithms with, testing algorithms with more confidence, etc.\n",
    "\n",
    "So what follows is a demonstration of some of the things `mdpy` can do."
   ]
  },
  {
   "cell_type": "markdown",
   "metadata": {},
   "source": [
    "## Define a Markov process\n",
    "\n",
    "We first define a Markov process (also referred to as a Markov chain).\n",
    "Markov chains are the results of applying a policy to an MDP.\n",
    "\n",
    "We require a transition matrix, $P$, and an expected reward matrix, $R$.\n",
    "$P_{ij}$ defines the probability of transitioning from state $i$ to state $j$, while $R_{ij}$ defines the expected reward from such a transition."
   ]
  },
  {
   "cell_type": "code",
   "execution_count": 2,
   "metadata": {
    "collapsed": false
   },
   "outputs": [],
   "source": [
    "# transition matrix\n",
    "P = np.array([\n",
    "    [0.0, 0.5, 0.5, 0.0, 0.0],\n",
    "    [0.0, 0.0, 0.0, 1.0, 0.0],\n",
    "    [0.0, 0.0, 0.0, 1.0, 0.0],\n",
    "    [0.0, 0.0, 0.0, 0.9, 0.1],\n",
    "    [1.0, 0.0, 0.0, 0.0, 0.0]\n",
    "])\n",
    "\n",
    "# expected reward matrix\n",
    "R = np.array([\n",
    "    [0.0, 0.0, 0.0, 0.0, 0.0],\n",
    "    [0.0, 0.0, 0.0, 1.0, 0.0],\n",
    "    [0.0, 0.0, 0.0, -1 , 0.0],\n",
    "    [0.0, 0.0, 0.0, 1.0, 0.0],\n",
    "    [1.0, 0.0, 0.0, 0.0, 0.0]\n",
    "])\n",
    "\n",
    "# number of states\n",
    "ns = len(P)\n",
    "\n",
    "# expected reward vector\n",
    "rvec = (P*R) @ np.ones(ns)"
   ]
  },
  {
   "cell_type": "markdown",
   "metadata": {},
   "source": [
    "Exciting stuff.\n",
    "The MC defined above has a fairly simple structure:\n",
    "\n",
    "- Starting from State 0, there are two possible transitions (to State 1 and State 2) \n",
    "- Both State 1 and State 2 transition to State 3\n",
    "- State 3 tends to transition to itself but may also transition to State 4.\n",
    "- State 4 always goes to State 0, and we're back to the start."
   ]
  },
  {
   "cell_type": "markdown",
   "metadata": {},
   "source": [
    "### Matrix Properties\n",
    "\n",
    "There are a few ways to look at MDPs/MCs strictly from the matrices which define them.\n",
    "In fact, it turns out that there's a group of people calling themselves \"mathematicians\" who seem to delight in coming up with new ways to these structures.\n",
    "\n",
    "As such, I've implemented a handful in `mdpy`."
   ]
  },
  {
   "cell_type": "code",
   "execution_count": 3,
   "metadata": {
    "collapsed": true
   },
   "outputs": [],
   "source": [
    "# Define a function encapsulating the matrix-related functions\n",
    "def matrix_properties(mat):\n",
    "    funcs = [\n",
    "        mdpy.is_aperiodic,\n",
    "        mdpy.is_diagonal,\n",
    "        mdpy.is_ergodic,\n",
    "        mdpy.is_matrix,\n",
    "        mdpy.is_nonnegative,\n",
    "        mdpy.is_periodic,\n",
    "        mdpy.is_reducible,\n",
    "        mdpy.is_square,\n",
    "        mdpy.is_stochastic,\n",
    "        mdpy.is_substochastic,\n",
    "    ]\n",
    "    return {f.__name__: f(mat) for f in funcs} "
   ]
  },
  {
   "cell_type": "code",
   "execution_count": 4,
   "metadata": {
    "collapsed": false
   },
   "outputs": [
    {
     "name": "stdout",
     "output_type": "stream",
     "text": [
      "is_aperiodic         True                \n",
      "is_stochastic        True                \n",
      "is_nonnegative       True                \n",
      "is_ergodic           True                \n",
      "is_matrix            True                \n",
      "is_reducible         False               \n",
      "is_periodic          False               \n",
      "is_diagonal          False               \n",
      "is_substochastic     True                \n",
      "is_square            True                \n"
     ]
    }
   ],
   "source": [
    "# Let's use this to check what properties P has\n",
    "prop_dct = matrix_properties(P)\n",
    "for prop, value in prop_dct.items():\n",
    "    print(\"{!s:<20s} {!s:<20}\".format(prop, value))"
   ]
  },
  {
   "cell_type": "markdown",
   "metadata": {},
   "source": [
    "Some brief explanation:\n",
    "\n",
    "A transition matrix describes probabilities of moving between states, so it should be **square**.\n",
    "Since this isn't quantum mechanics, negative probabilities make no sense, so it should be **non-negative**.\n",
    "As it is, the probabilities of each row should sum to one (making it a **stochastic** matrix).\n",
    "\n",
    "To be the transition matrix of a true Markov chain, we need two slightly more complicated properties:\n",
    "the matrix must **aperiodic** and **irreducible**.\n",
    "To be aperiodic, we require that the chain can't leave a state and then return to it only in multiples of $n$ steps, with $n > 1$.\n",
    "In order to be irreducible the chain can't get \"cut off\" from other states-- there should always be a sequence of possible transitions taking it from state $i$ to state $j$ for *every* $i$ and $j$.\n",
    "\n",
    "------\n",
    "\n",
    "There are some other things we might wish to learn about our transition matrix.\n",
    "\n",
    "The stationary distribution is one such thing.\n",
    "\n",
    "It is defined as the left eigenvector with eigenvalue one.\n",
    "Provided we have a real Markov process on our hands (i.e., it's irreducible and aperiodic) then there is only one such eigenvector.\n",
    "\n",
    "It's probably better understood as the long-term probability distribution the Markov chain evolves towards.\n",
    "For example, if we let it run for a long time and then came back and peeked at the current state, what state would it be in?\n",
    "Obviously we can't know for sure (unless there's a terminal state, but again, we assume it's irreducible and aperiodic), so we instead get probabilities for each state."
   ]
  },
  {
   "cell_type": "code",
   "execution_count": 5,
   "metadata": {
    "collapsed": true
   },
   "outputs": [],
   "source": [
    "d_pi = mdpy.stationary(P)"
   ]
  },
  {
   "cell_type": "markdown",
   "metadata": {},
   "source": [
    "### Visualization\n",
    "\n",
    "We can also use tools like `networkx` or `graphviz` to visualize the structure of the transition matrix"
   ]
  },
  {
   "cell_type": "code",
   "execution_count": 6,
   "metadata": {
    "collapsed": false
   },
   "outputs": [],
   "source": [
    "def draw_graph(mat, method='draw_spring', **kwargs):\n",
    "    \"\"\"Slightly customized networkx graph drawing.\"\"\"\n",
    "    graph = nx.DiGraph(mat)\n",
    "    edge_weights = [0.5 + i[-1] for i in graph.edges(data='weight')]\n",
    "    \n",
    "    # Graph drawing options\n",
    "    options = {\n",
    "        'edge_cmap': mpl.cm.viridis,\n",
    "        'node_size': 500,\n",
    "        'width': edge_weights,\n",
    "        'with_labels':True,\n",
    "        **kwargs\n",
    "    }\n",
    "    \n",
    "    draw_func = getattr(nx, method)\n",
    "    return draw_func(graph, **options)"
   ]
  },
  {
   "cell_type": "code",
   "execution_count": 7,
   "metadata": {
    "collapsed": false
   },
   "outputs": [
    {
     "data": {
      "image/png": "[encoded data removed]",
      "text/plain": [
       "<matplotlib.figure.Figure at 0x7fcde0ad1668>"
      ]
     },
     "metadata": {},
     "output_type": "display_data"
    }
   ],
   "source": [
    "# print([i for i in dir(nx) if i.startswith('draw')]) # some available methods\n",
    "draw_graph(P, method='draw_spring')"
   ]
  },
  {
   "cell_type": "markdown",
   "metadata": {
    "collapsed": true
   },
   "source": [
    "## Solving MDPs\n",
    "\n",
    "So to get a \"real\" Markov Decision Process, you need a discount factor, denoted \"γ\", which defines how much you should discount the reward from a subsequent state.\n",
    "If you care about all future rewards equally, γ should be 1; if you care only about the short-term rewards, γ should be close to zero.\n",
    "\n",
    "One can think about this in a number of ways-- prioritizing immediate rewards might reflect the time-value of money in a financial setting, or the growing uncertainty of the model in a robotics application, or it might encode the fact that the experiment could end at any time (with probability `γ-1`).\n",
    "\n",
    "It is possible to have state-dependent discounting (which leads to the topic of GVFs), but we can put that aside for a moment."
   ]
  },
  {
   "cell_type": "code",
   "execution_count": 8,
   "metadata": {
    "collapsed": false
   },
   "outputs": [
    {
     "name": "stdout",
     "output_type": "stream",
     "text": [
      "[ 6.4466597   8.16295522  6.16295522  7.95883913  6.80199373]\n"
     ]
    }
   ],
   "source": [
    "gm = 0.9 # it could be a vector or diagonal matrix for state-dependent γ\n",
    "v_pi = mdpy.mc_return(P, rvec, gm)\n",
    "print(v_pi)"
   ]
  },
  {
   "cell_type": "markdown",
   "metadata": {},
   "source": [
    "----\n",
    "\n",
    "**Author's Note: I got bored, so I'm abandoning the pedagogical tone and just going to show the code for the rest of this notebook**\n",
    "\n",
    "------\n",
    "\n",
    "\n",
    "### Least-Squares Approximation"
   ]
  },
  {
   "cell_type": "code",
   "execution_count": 9,
   "metadata": {
    "collapsed": false
   },
   "outputs": [
    {
     "data": {
      "text/plain": [
       "4"
      ]
     },
     "execution_count": 9,
     "metadata": {},
     "output_type": "execute_result"
    }
   ],
   "source": [
    "# Random features\n",
    "X = np.random.binomial(1, 0.3, size=(ns, ns+1))\n",
    "\n",
    "# Identity matrix\n",
    "I = np.eye(ns)\n",
    "\n",
    "# If rank == number of states in MDP, we can represent values exactly\n",
    "# anything less ==> we can only approximate.\n",
    "np.linalg.matrix_rank(X)"
   ]
  },
  {
   "cell_type": "code",
   "execution_count": 10,
   "metadata": {
    "collapsed": false
   },
   "outputs": [
    {
     "data": {
      "text/plain": [
       "array([[0, 1, 0, 0, 0, 1],\n",
       "       [0, 0, 0, 1, 0, 0],\n",
       "       [0, 0, 0, 1, 1, 0],\n",
       "       [0, 0, 0, 0, 0, 0],\n",
       "       [1, 1, 0, 0, 0, 1]])"
      ]
     },
     "execution_count": 10,
     "metadata": {},
     "output_type": "execute_result"
    }
   ],
   "source": [
    "X"
   ]
  },
  {
   "cell_type": "code",
   "execution_count": 11,
   "metadata": {
    "collapsed": false
   },
   "outputs": [
    {
     "name": "stdout",
     "output_type": "stream",
     "text": [
      "[ 6.4466597   8.16295522  6.16295522  0.          6.80199373]\n"
     ]
    }
   ],
   "source": [
    "v_ls = mdpy.ls_values(P, rvec, gm, X)\n",
    "print(v_ls)"
   ]
  },
  {
   "cell_type": "markdown",
   "metadata": {},
   "source": [
    "### Temporal Difference Learning Fixed Point"
   ]
  },
  {
   "cell_type": "code",
   "execution_count": 12,
   "metadata": {
    "collapsed": true
   },
   "outputs": [],
   "source": [
    "lm = 0.0"
   ]
  },
  {
   "cell_type": "code",
   "execution_count": 13,
   "metadata": {
    "collapsed": false
   },
   "outputs": [],
   "source": [
    "v_td = mdpy.td_values(P, rvec, gm, lm, X)"
   ]
  },
  {
   "cell_type": "code",
   "execution_count": 14,
   "metadata": {
    "collapsed": false
   },
   "outputs": [
    {
     "name": "stdout",
     "output_type": "stream",
     "text": [
      "[  4.99600361e-16   1.00000000e+00  -1.00000000e+00   0.00000000e+00\n",
      "   1.00000000e+00]\n"
     ]
    }
   ],
   "source": [
    "print(v_td)"
   ]
  },
  {
   "cell_type": "code",
   "execution_count": 15,
   "metadata": {
    "collapsed": true
   },
   "outputs": [],
   "source": [
    "def mse(a, b):\n",
    "    return np.mean((a - b)**2)\n",
    "\n",
    "def weighted_sqerr_factory(P, ivec=None):\n",
    "    if ivec is None:\n",
    "        ivec = 1\n",
    "    __di = mdpy.stationary(P)*ivec\n",
    "    __di = __di/np.sum(__di) # normalize\n",
    "    def _msve(a, b):\n",
    "        return np.sum(__di*(a-b)**2)\n",
    "    return __msve"
   ]
  },
  {
   "cell_type": "code",
   "execution_count": 16,
   "metadata": {
    "collapsed": false
   },
   "outputs": [
    {
     "name": "stdout",
     "output_type": "stream",
     "text": [
      "12.6686240753\n",
      "48.2363055803\n",
      "35.567681505\n"
     ]
    }
   ],
   "source": [
    "print(mse(v_pi, v_ls))\n",
    "print(mse(v_pi, v_td))\n",
    "print(mse(v_td, v_ls))"
   ]
  },
  {
   "cell_type": "code",
   "execution_count": 17,
   "metadata": {
    "collapsed": false
   },
   "outputs": [],
   "source": [
    "G_td = mdpy.lambda_return(P, rvec, gm, lm, v_td)"
   ]
  },
  {
   "cell_type": "code",
   "execution_count": 18,
   "metadata": {
    "collapsed": false
   },
   "outputs": [],
   "source": [
    "G_ls = mdpy.lambda_return(P, rvec, gm, lm, v_ls)"
   ]
  },
  {
   "cell_type": "code",
   "execution_count": 19,
   "metadata": {
    "collapsed": false
   },
   "outputs": [
    {
     "data": {
      "text/plain": [
       "array([ 6.4466597 ,  8.16295522,  6.16295522,  7.95883913,  6.80199373])"
      ]
     },
     "execution_count": 19,
     "metadata": {},
     "output_type": "execute_result"
    }
   ],
   "source": [
    "# should be the same as the 'true' return\n",
    "mdpy.lambda_return(P, rvec, gm, lm, v_pi)"
   ]
  },
  {
   "cell_type": "code",
   "execution_count": 20,
   "metadata": {
    "collapsed": false
   },
   "outputs": [
    {
     "data": {
      "text/plain": [
       "45.280625282815919"
      ]
     },
     "execution_count": 20,
     "metadata": {},
     "output_type": "execute_result"
    }
   ],
   "source": [
    "# close, but no logner the same objective!\n",
    "mse(G_td, v_pi)"
   ]
  },
  {
   "cell_type": "markdown",
   "metadata": {},
   "source": [
    "## Variance and Second Moment"
   ]
  },
  {
   "cell_type": "code",
   "execution_count": 21,
   "metadata": {
    "collapsed": false
   },
   "outputs": [
    {
     "data": {
      "text/plain": [
       "array([ 2.04220828,  1.52124479,  1.52124479,  1.87807999,  1.65418871])"
      ]
     },
     "execution_count": 21,
     "metadata": {},
     "output_type": "execute_result"
    }
   ],
   "source": [
    "# variance of the return\n",
    "mdpy.sobel_variance(P, R, gm)"
   ]
  },
  {
   "cell_type": "code",
   "execution_count": 22,
   "metadata": {
    "collapsed": false
   },
   "outputs": [
    {
     "data": {
      "text/plain": [
       "array([ 43.60162956,  68.15508274,  39.50326185,  65.22120036,  47.9213074 ])"
      ]
     },
     "execution_count": 22,
     "metadata": {},
     "output_type": "execute_result"
    }
   ],
   "source": [
    "mdpy.second_moment(P, R, gm)"
   ]
  },
  {
   "cell_type": "code",
   "execution_count": 23,
   "metadata": {
    "collapsed": false
   },
   "outputs": [
    {
     "data": {
      "text/plain": [
       "array([ 2.04220828,  1.52124479,  1.52124479,  1.87807999,  1.65418871])"
      ]
     },
     "execution_count": 23,
     "metadata": {},
     "output_type": "execute_result"
    }
   ],
   "source": [
    "mdpy.second_moment(P, R, gm) - v_pi**2"
   ]
  },
  {
   "cell_type": "code",
   "execution_count": 24,
   "metadata": {
    "collapsed": false
   },
   "outputs": [
    {
     "data": {
      "text/plain": [
       "array([  8.10000000e-01,   2.84217094e-14,   7.81597009e-14,\n",
       "         3.74970391e-01,   0.00000000e+00])"
      ]
     },
     "execution_count": 24,
     "metadata": {},
     "output_type": "execute_result"
    }
   ],
   "source": [
    "mdpy.lambda_second_moment(P, R, gm, lm, v_pi) - v_pi**2"
   ]
  },
  {
   "cell_type": "code",
   "execution_count": null,
   "metadata": {
    "collapsed": true
   },
   "outputs": [],
   "source": []
  }
 ],
 "metadata": {
  "anaconda-cloud": {},
  "kernelspec": {
   "display_name": "Python [varcompfa]",
   "language": "python",
   "name": "Python [varcompfa]"
  },
  "language_info": {
   "codemirror_mode": {
    "name": "ipython",
    "version": 3
   },
   "file_extension": ".py",
   "mimetype": "text/x-python",
   "name": "python",
   "nbconvert_exporter": "python",
   "pygments_lexer": "ipython3",
   "version": "3.5.2"
  }
 },
 "nbformat": 4,
 "nbformat_minor": 1
}
